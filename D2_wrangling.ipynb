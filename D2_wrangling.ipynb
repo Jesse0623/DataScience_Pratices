{
 "cells": [
  {
   "cell_type": "markdown",
   "metadata": {
    "deletable": false,
    "editable": false,
    "nbgrader": {
     "cell_type": "markdown",
     "checksum": "1e759865d1802c1ea1d5993d556f1fa5",
     "grade": false,
     "grade_id": "cell-df0844acc5dc9764",
     "locked": true,
     "schema_version": 3,
     "solution": false
    }
   },
   "source": [
    "# D2 : Data Wrangling\n",
    "\n",
    "In this week's workbook, you'll work through an example in this to gain practice on how to:\n",
    "* read a DataFrame into Python\n",
    "* wrangle the data\n",
    "* clean the data"
   ]
  },
  {
   "cell_type": "markdown",
   "metadata": {
    "deletable": false,
    "editable": false,
    "nbgrader": {
     "cell_type": "markdown",
     "checksum": "72304f4f409e745be56d52c799c197ce",
     "grade": false,
     "grade_id": "cell-8ac9b04cc885ab3b",
     "locked": true,
     "schema_version": 3,
     "solution": false
    }
   },
   "source": [
    "# Part I: Setup\n",
    "\n",
    "Data wrangling often requires additional functionality outside what's included in Python by default. For this, we'll import other functions from helpful packages."
   ]
  },
  {
   "cell_type": "markdown",
   "metadata": {
    "deletable": false,
    "editable": false,
    "nbgrader": {
     "cell_type": "markdown",
     "checksum": "761d2b8d81a64acdc625052fcc517b15",
     "grade": false,
     "grade_id": "cell-58bfc3d10382dd05",
     "locked": true,
     "schema_version": 3,
     "solution": false
    }
   },
   "source": [
    "**Import the following packages using their common shortened name found in parentheses:**\n",
    "\n",
    "* `numpy` (`np`)\n",
    "* `pandas` (`pd`)"
   ]
  },
  {
   "cell_type": "code",
   "execution_count": 1,
   "metadata": {
    "deletable": false,
    "nbgrader": {
     "cell_type": "code",
     "checksum": "21a5caa099738dc651e06e0e09889835",
     "grade": false,
     "grade_id": "cell-b689d21f629d9dda",
     "locked": false,
     "schema_version": 3,
     "solution": true
    }
   },
   "outputs": [],
   "source": [
    "# YOUR CODE HERE\n",
    "%matplotlib inline\n",
    "import pandas as pd\n",
    "import numpy as np"
   ]
  },
  {
   "cell_type": "code",
   "execution_count": 2,
   "metadata": {
    "deletable": false,
    "editable": false,
    "nbgrader": {
     "cell_type": "code",
     "checksum": "02a1b2817c26f9f08c6c849eeb4827c1",
     "grade": true,
     "grade_id": "cell-2935019a026ca3a1",
     "locked": true,
     "points": 0.2,
     "schema_version": 3,
     "solution": false,
     "task": false
    }
   },
   "outputs": [],
   "source": [
    "# Do not edit this cell. This cell is for testing purposes"
   ]
  },
  {
   "cell_type": "markdown",
   "metadata": {
    "deletable": false,
    "editable": false,
    "nbgrader": {
     "cell_type": "markdown",
     "checksum": "17c613f98744c51669831d5968a42c51",
     "grade": false,
     "grade_id": "cell-e5cff9f7eb53af65",
     "locked": true,
     "schema_version": 3,
     "solution": false
    }
   },
   "source": [
    "**Run the following cell code to make things throughout the rest of this workbook a little prettier.** (Note: You don't have to edit code here, but are free to and see what changes to be sure you understand each line.)"
   ]
  },
  {
   "cell_type": "code",
   "execution_count": 3,
   "metadata": {
    "deletable": false,
    "editable": false,
    "nbgrader": {
     "cell_type": "code",
     "checksum": "e5e0513a01251a42affb739ddc0de23f",
     "grade": false,
     "grade_id": "cell-69e24a1606e9c55f",
     "locked": true,
     "schema_version": 3,
     "solution": false,
     "task": false
    }
   },
   "outputs": [],
   "source": [
    "# Configure libraries\n",
    "\n",
    "# Don't display too many rows/cols of DataFrames\n",
    "pd.options.display.max_rows = 7\n",
    "pd.options.display.max_columns = 8\n",
    "\n",
    "# Round decimals when displaying DataFrames\n",
    "pd.set_option('display.precision', 2)"
   ]
  },
  {
   "cell_type": "markdown",
   "metadata": {
    "deletable": false,
    "editable": false,
    "nbgrader": {
     "cell_type": "markdown",
     "checksum": "cfb8fa0a2bd868fce467248aee38de0d",
     "grade": false,
     "grade_id": "cell-c00d30a4e4633133",
     "locked": true,
     "schema_version": 3,
     "solution": false
    }
   },
   "source": [
    "**Read the CSV file at the URL https://raw.githubusercontent.com/fivethirtyeight/data/master/steak-survey/steak-risk-survey.csv into Python in and assign it to the variable `survey`**."
   ]
  },
  {
   "cell_type": "code",
   "execution_count": 4,
   "metadata": {
    "deletable": false,
    "nbgrader": {
     "cell_type": "code",
     "checksum": "efb121927f8db67bc35c376bf8903222",
     "grade": false,
     "grade_id": "cell-65e31c6985ba9dd2",
     "locked": false,
     "schema_version": 3,
     "solution": true
    }
   },
   "outputs": [
    {
     "data": {
      "text/html": [
       "<div>\n",
       "<style scoped>\n",
       "    .dataframe tbody tr th:only-of-type {\n",
       "        vertical-align: middle;\n",
       "    }\n",
       "\n",
       "    .dataframe tbody tr th {\n",
       "        vertical-align: top;\n",
       "    }\n",
       "\n",
       "    .dataframe thead th {\n",
       "        text-align: right;\n",
       "    }\n",
       "</style>\n",
       "<table border=\"1\" class=\"dataframe\">\n",
       "  <thead>\n",
       "    <tr style=\"text-align: right;\">\n",
       "      <th></th>\n",
       "      <th>RespondentID</th>\n",
       "      <th>Consider the following hypothetical situations: &lt;br&gt;In Lottery A, you have a 50% chance of success, with a payout of $100. &lt;br&gt;In Lottery B, you have a 90% chance of success, with a payout of $20. &lt;br&gt;&lt;br&gt;Assuming you have $10 to bet, would you play Lottery A or Lottery B?</th>\n",
       "      <th>Do you ever smoke cigarettes?</th>\n",
       "      <th>Do you ever drink alcohol?</th>\n",
       "      <th>...</th>\n",
       "      <th>Age</th>\n",
       "      <th>Household Income</th>\n",
       "      <th>Education</th>\n",
       "      <th>Location (Census Region)</th>\n",
       "    </tr>\n",
       "  </thead>\n",
       "  <tbody>\n",
       "    <tr>\n",
       "      <th>0</th>\n",
       "      <td>NaN</td>\n",
       "      <td>Response</td>\n",
       "      <td>Response</td>\n",
       "      <td>Response</td>\n",
       "      <td>...</td>\n",
       "      <td>Response</td>\n",
       "      <td>Response</td>\n",
       "      <td>Response</td>\n",
       "      <td>Response</td>\n",
       "    </tr>\n",
       "    <tr>\n",
       "      <th>1</th>\n",
       "      <td>3.24e+09</td>\n",
       "      <td>Lottery B</td>\n",
       "      <td>NaN</td>\n",
       "      <td>NaN</td>\n",
       "      <td>...</td>\n",
       "      <td>NaN</td>\n",
       "      <td>NaN</td>\n",
       "      <td>NaN</td>\n",
       "      <td>NaN</td>\n",
       "    </tr>\n",
       "    <tr>\n",
       "      <th>2</th>\n",
       "      <td>3.23e+09</td>\n",
       "      <td>Lottery A</td>\n",
       "      <td>No</td>\n",
       "      <td>Yes</td>\n",
       "      <td>...</td>\n",
       "      <td>&gt; 60</td>\n",
       "      <td>$50,000 - $99,999</td>\n",
       "      <td>Some college or Associate degree</td>\n",
       "      <td>East North Central</td>\n",
       "    </tr>\n",
       "    <tr>\n",
       "      <th>...</th>\n",
       "      <td>...</td>\n",
       "      <td>...</td>\n",
       "      <td>...</td>\n",
       "      <td>...</td>\n",
       "      <td>...</td>\n",
       "      <td>...</td>\n",
       "      <td>...</td>\n",
       "      <td>...</td>\n",
       "      <td>...</td>\n",
       "    </tr>\n",
       "    <tr>\n",
       "      <th>548</th>\n",
       "      <td>3.23e+09</td>\n",
       "      <td>Lottery A</td>\n",
       "      <td>Yes</td>\n",
       "      <td>Yes</td>\n",
       "      <td>...</td>\n",
       "      <td>30-44</td>\n",
       "      <td>$50,000 - $99,999</td>\n",
       "      <td>Some college or Associate degree</td>\n",
       "      <td>South Atlantic</td>\n",
       "    </tr>\n",
       "    <tr>\n",
       "      <th>549</th>\n",
       "      <td>3.23e+09</td>\n",
       "      <td>Lottery A</td>\n",
       "      <td>No</td>\n",
       "      <td>Yes</td>\n",
       "      <td>...</td>\n",
       "      <td>45-60</td>\n",
       "      <td>$50,000 - $99,999</td>\n",
       "      <td>Some college or Associate degree</td>\n",
       "      <td>Pacific</td>\n",
       "    </tr>\n",
       "    <tr>\n",
       "      <th>550</th>\n",
       "      <td>3.23e+09</td>\n",
       "      <td>Lottery B</td>\n",
       "      <td>Yes</td>\n",
       "      <td>Yes</td>\n",
       "      <td>...</td>\n",
       "      <td>18-29</td>\n",
       "      <td>$0 - $24,999</td>\n",
       "      <td>NaN</td>\n",
       "      <td>Mountain</td>\n",
       "    </tr>\n",
       "  </tbody>\n",
       "</table>\n",
       "<p>551 rows × 15 columns</p>\n",
       "</div>"
      ],
      "text/plain": [
       "     RespondentID  \\\n",
       "0             NaN   \n",
       "1        3.24e+09   \n",
       "2        3.23e+09   \n",
       "..            ...   \n",
       "548      3.23e+09   \n",
       "549      3.23e+09   \n",
       "550      3.23e+09   \n",
       "\n",
       "    Consider the following hypothetical situations: <br>In Lottery A, you have a 50% chance of success, with a payout of $100. <br>In Lottery B, you have a 90% chance of success, with a payout of $20. <br><br>Assuming you have $10 to bet, would you play Lottery A or Lottery B?  \\\n",
       "0                                             Response                                                                                                                                                                                                                                  \n",
       "1                                            Lottery B                                                                                                                                                                                                                                  \n",
       "2                                            Lottery A                                                                                                                                                                                                                                  \n",
       "..                                                 ...                                                                                                                                                                                                                                  \n",
       "548                                          Lottery A                                                                                                                                                                                                                                  \n",
       "549                                          Lottery A                                                                                                                                                                                                                                  \n",
       "550                                          Lottery B                                                                                                                                                                                                                                  \n",
       "\n",
       "    Do you ever smoke cigarettes? Do you ever drink alcohol?  ...       Age  \\\n",
       "0                        Response                   Response  ...  Response   \n",
       "1                             NaN                        NaN  ...       NaN   \n",
       "2                              No                        Yes  ...      > 60   \n",
       "..                            ...                        ...  ...       ...   \n",
       "548                           Yes                        Yes  ...     30-44   \n",
       "549                            No                        Yes  ...     45-60   \n",
       "550                           Yes                        Yes  ...     18-29   \n",
       "\n",
       "      Household Income                         Education  \\\n",
       "0             Response                          Response   \n",
       "1                  NaN                               NaN   \n",
       "2    $50,000 - $99,999  Some college or Associate degree   \n",
       "..                 ...                               ...   \n",
       "548  $50,000 - $99,999  Some college or Associate degree   \n",
       "549  $50,000 - $99,999  Some college or Associate degree   \n",
       "550       $0 - $24,999                               NaN   \n",
       "\n",
       "    Location (Census Region)  \n",
       "0                   Response  \n",
       "1                        NaN  \n",
       "2         East North Central  \n",
       "..                       ...  \n",
       "548           South Atlantic  \n",
       "549                  Pacific  \n",
       "550                 Mountain  \n",
       "\n",
       "[551 rows x 15 columns]"
      ]
     },
     "execution_count": 4,
     "metadata": {},
     "output_type": "execute_result"
    }
   ],
   "source": [
    "# YOUR CODE HERE\n",
    "survey = pd.read_csv('https://raw.githubusercontent.com/fivethirtyeight/data/master/steak-survey/steak-risk-survey.csv')\n",
    "\n",
    "# take a look at the data\n",
    "survey"
   ]
  },
  {
   "cell_type": "code",
   "execution_count": 5,
   "metadata": {
    "deletable": false,
    "editable": false,
    "nbgrader": {
     "cell_type": "code",
     "checksum": "3d981b044b490e883bc196642dc4a2f8",
     "grade": true,
     "grade_id": "cell-0fdae0bebda7c436",
     "locked": true,
     "points": 0.2,
     "schema_version": 3,
     "solution": false
    }
   },
   "outputs": [],
   "source": [
    "# Do not edit this cell. This cell is for testing purposes\n",
    "### BEGIN TESTS\n",
    "assert survey.shape == (551, 15)\n",
    "### END TESTS"
   ]
  },
  {
   "cell_type": "code",
   "execution_count": 6,
   "metadata": {
    "deletable": false,
    "editable": false,
    "nbgrader": {
     "cell_type": "code",
     "checksum": "ab57cd155991f0dd9ca714aebbf9f848",
     "grade": true,
     "grade_id": "cell-caef12a25ae8fc28",
     "locked": true,
     "points": 0.2,
     "schema_version": 3,
     "solution": false,
     "task": false
    }
   },
   "outputs": [],
   "source": [
    "# Do not edit this cell. This cell is for testing purposes"
   ]
  },
  {
   "cell_type": "markdown",
   "metadata": {
    "deletable": false,
    "editable": false,
    "nbgrader": {
     "cell_type": "markdown",
     "checksum": "00ae4ce0acbb8e134845a08f427dccde",
     "grade": false,
     "grade_id": "cell-417136016fee2e68",
     "locked": true,
     "schema_version": 3,
     "solution": false
    }
   },
   "source": [
    "These data contain survey responses from Americans who responded to a SurveyMonkey Audience poll. These data were used in the [FiveThirtyEight](https://fivethirtyeight.com) article: *[How Americans Like Their Steak](https://fivethirtyeight.com/features/how-americans-like-their-steak/)*"
   ]
  },
  {
   "cell_type": "markdown",
   "metadata": {
    "deletable": false,
    "editable": false,
    "nbgrader": {
     "cell_type": "markdown",
     "checksum": "8be95e3efae7cab1f0bf39a6f710bfb5",
     "grade": false,
     "grade_id": "cell-98f70820df7fa1af",
     "locked": true,
     "schema_version": 3,
     "solution": false
    }
   },
   "source": [
    "# Part II: Wrangling"
   ]
  },
  {
   "cell_type": "markdown",
   "metadata": {
    "deletable": false,
    "editable": false,
    "nbgrader": {
     "cell_type": "markdown",
     "checksum": "0b99cd3b7bf3463cc8422d7bf7be333d",
     "grade": false,
     "grade_id": "cell-fa1e082f004a61eb",
     "locked": true,
     "schema_version": 3,
     "solution": false
    }
   },
   "source": [
    "**Write a line of code to look at the first few rows of the DataFrame**"
   ]
  },
  {
   "cell_type": "code",
   "execution_count": 7,
   "metadata": {
    "deletable": false,
    "nbgrader": {
     "cell_type": "code",
     "checksum": "40c1ffd7feda89687d91312b8393124c",
     "grade": false,
     "grade_id": "cell-c7cd7d4cfbf98114",
     "locked": false,
     "schema_version": 3,
     "solution": true
    }
   },
   "outputs": [
    {
     "data": {
      "text/html": [
       "<div>\n",
       "<style scoped>\n",
       "    .dataframe tbody tr th:only-of-type {\n",
       "        vertical-align: middle;\n",
       "    }\n",
       "\n",
       "    .dataframe tbody tr th {\n",
       "        vertical-align: top;\n",
       "    }\n",
       "\n",
       "    .dataframe thead th {\n",
       "        text-align: right;\n",
       "    }\n",
       "</style>\n",
       "<table border=\"1\" class=\"dataframe\">\n",
       "  <thead>\n",
       "    <tr style=\"text-align: right;\">\n",
       "      <th></th>\n",
       "      <th>RespondentID</th>\n",
       "      <th>Consider the following hypothetical situations: &lt;br&gt;In Lottery A, you have a 50% chance of success, with a payout of $100. &lt;br&gt;In Lottery B, you have a 90% chance of success, with a payout of $20. &lt;br&gt;&lt;br&gt;Assuming you have $10 to bet, would you play Lottery A or Lottery B?</th>\n",
       "      <th>Do you ever smoke cigarettes?</th>\n",
       "      <th>Do you ever drink alcohol?</th>\n",
       "      <th>...</th>\n",
       "      <th>Age</th>\n",
       "      <th>Household Income</th>\n",
       "      <th>Education</th>\n",
       "      <th>Location (Census Region)</th>\n",
       "    </tr>\n",
       "  </thead>\n",
       "  <tbody>\n",
       "    <tr>\n",
       "      <th>0</th>\n",
       "      <td>NaN</td>\n",
       "      <td>Response</td>\n",
       "      <td>Response</td>\n",
       "      <td>Response</td>\n",
       "      <td>...</td>\n",
       "      <td>Response</td>\n",
       "      <td>Response</td>\n",
       "      <td>Response</td>\n",
       "      <td>Response</td>\n",
       "    </tr>\n",
       "    <tr>\n",
       "      <th>1</th>\n",
       "      <td>3.24e+09</td>\n",
       "      <td>Lottery B</td>\n",
       "      <td>NaN</td>\n",
       "      <td>NaN</td>\n",
       "      <td>...</td>\n",
       "      <td>NaN</td>\n",
       "      <td>NaN</td>\n",
       "      <td>NaN</td>\n",
       "      <td>NaN</td>\n",
       "    </tr>\n",
       "    <tr>\n",
       "      <th>2</th>\n",
       "      <td>3.23e+09</td>\n",
       "      <td>Lottery A</td>\n",
       "      <td>No</td>\n",
       "      <td>Yes</td>\n",
       "      <td>...</td>\n",
       "      <td>&gt; 60</td>\n",
       "      <td>$50,000 - $99,999</td>\n",
       "      <td>Some college or Associate degree</td>\n",
       "      <td>East North Central</td>\n",
       "    </tr>\n",
       "    <tr>\n",
       "      <th>3</th>\n",
       "      <td>3.23e+09</td>\n",
       "      <td>Lottery A</td>\n",
       "      <td>No</td>\n",
       "      <td>Yes</td>\n",
       "      <td>...</td>\n",
       "      <td>&gt; 60</td>\n",
       "      <td>$150,000+</td>\n",
       "      <td>Graduate degree</td>\n",
       "      <td>South Atlantic</td>\n",
       "    </tr>\n",
       "    <tr>\n",
       "      <th>4</th>\n",
       "      <td>3.23e+09</td>\n",
       "      <td>Lottery B</td>\n",
       "      <td>Yes</td>\n",
       "      <td>Yes</td>\n",
       "      <td>...</td>\n",
       "      <td>&gt; 60</td>\n",
       "      <td>$50,000 - $99,999</td>\n",
       "      <td>Bachelor degree</td>\n",
       "      <td>New England</td>\n",
       "    </tr>\n",
       "  </tbody>\n",
       "</table>\n",
       "<p>5 rows × 15 columns</p>\n",
       "</div>"
      ],
      "text/plain": [
       "   RespondentID  \\\n",
       "0           NaN   \n",
       "1      3.24e+09   \n",
       "2      3.23e+09   \n",
       "3      3.23e+09   \n",
       "4      3.23e+09   \n",
       "\n",
       "  Consider the following hypothetical situations: <br>In Lottery A, you have a 50% chance of success, with a payout of $100. <br>In Lottery B, you have a 90% chance of success, with a payout of $20. <br><br>Assuming you have $10 to bet, would you play Lottery A or Lottery B?  \\\n",
       "0                                           Response                                                                                                                                                                                                                                  \n",
       "1                                          Lottery B                                                                                                                                                                                                                                  \n",
       "2                                          Lottery A                                                                                                                                                                                                                                  \n",
       "3                                          Lottery A                                                                                                                                                                                                                                  \n",
       "4                                          Lottery B                                                                                                                                                                                                                                  \n",
       "\n",
       "  Do you ever smoke cigarettes? Do you ever drink alcohol?  ...       Age  \\\n",
       "0                      Response                   Response  ...  Response   \n",
       "1                           NaN                        NaN  ...       NaN   \n",
       "2                            No                        Yes  ...      > 60   \n",
       "3                            No                        Yes  ...      > 60   \n",
       "4                           Yes                        Yes  ...      > 60   \n",
       "\n",
       "    Household Income                         Education  \\\n",
       "0           Response                          Response   \n",
       "1                NaN                               NaN   \n",
       "2  $50,000 - $99,999  Some college or Associate degree   \n",
       "3          $150,000+                   Graduate degree   \n",
       "4  $50,000 - $99,999                   Bachelor degree   \n",
       "\n",
       "  Location (Census Region)  \n",
       "0                 Response  \n",
       "1                      NaN  \n",
       "2       East North Central  \n",
       "3           South Atlantic  \n",
       "4              New England  \n",
       "\n",
       "[5 rows x 15 columns]"
      ]
     },
     "execution_count": 7,
     "metadata": {},
     "output_type": "execute_result"
    }
   ],
   "source": [
    "# YOUR CODE HERE\n",
    "survey.head(5)"
   ]
  },
  {
   "cell_type": "markdown",
   "metadata": {
    "deletable": false,
    "editable": false,
    "nbgrader": {
     "cell_type": "markdown",
     "checksum": "90a6b3ad927afb66da97f21960a62d4e",
     "grade": false,
     "grade_id": "cell-116be865f8da95b0",
     "locked": true,
     "schema_version": 3,
     "solution": false
    }
   },
   "source": [
    "What do you notice about the first row of the dataframe? Notice that it's not actually an observation from a respondent? **Remove this row from the dataset. Assign this back to the variable `survey`. Print the first few rows again to make sure you've accomplished this.**"
   ]
  },
  {
   "cell_type": "code",
   "execution_count": 8,
   "metadata": {
    "deletable": false,
    "nbgrader": {
     "cell_type": "code",
     "checksum": "780f33cb9a244d18cdf1ac4886c8ecd3",
     "grade": false,
     "grade_id": "cell-0624532e0d0d4ce1",
     "locked": false,
     "schema_version": 3,
     "solution": true
    }
   },
   "outputs": [
    {
     "data": {
      "text/html": [
       "<div>\n",
       "<style scoped>\n",
       "    .dataframe tbody tr th:only-of-type {\n",
       "        vertical-align: middle;\n",
       "    }\n",
       "\n",
       "    .dataframe tbody tr th {\n",
       "        vertical-align: top;\n",
       "    }\n",
       "\n",
       "    .dataframe thead th {\n",
       "        text-align: right;\n",
       "    }\n",
       "</style>\n",
       "<table border=\"1\" class=\"dataframe\">\n",
       "  <thead>\n",
       "    <tr style=\"text-align: right;\">\n",
       "      <th></th>\n",
       "      <th>RespondentID</th>\n",
       "      <th>Consider the following hypothetical situations: &lt;br&gt;In Lottery A, you have a 50% chance of success, with a payout of $100. &lt;br&gt;In Lottery B, you have a 90% chance of success, with a payout of $20. &lt;br&gt;&lt;br&gt;Assuming you have $10 to bet, would you play Lottery A or Lottery B?</th>\n",
       "      <th>Do you ever smoke cigarettes?</th>\n",
       "      <th>Do you ever drink alcohol?</th>\n",
       "      <th>...</th>\n",
       "      <th>Age</th>\n",
       "      <th>Household Income</th>\n",
       "      <th>Education</th>\n",
       "      <th>Location (Census Region)</th>\n",
       "    </tr>\n",
       "  </thead>\n",
       "  <tbody>\n",
       "    <tr>\n",
       "      <th>1</th>\n",
       "      <td>3.24e+09</td>\n",
       "      <td>Lottery B</td>\n",
       "      <td>NaN</td>\n",
       "      <td>NaN</td>\n",
       "      <td>...</td>\n",
       "      <td>NaN</td>\n",
       "      <td>NaN</td>\n",
       "      <td>NaN</td>\n",
       "      <td>NaN</td>\n",
       "    </tr>\n",
       "    <tr>\n",
       "      <th>2</th>\n",
       "      <td>3.23e+09</td>\n",
       "      <td>Lottery A</td>\n",
       "      <td>No</td>\n",
       "      <td>Yes</td>\n",
       "      <td>...</td>\n",
       "      <td>&gt; 60</td>\n",
       "      <td>$50,000 - $99,999</td>\n",
       "      <td>Some college or Associate degree</td>\n",
       "      <td>East North Central</td>\n",
       "    </tr>\n",
       "    <tr>\n",
       "      <th>3</th>\n",
       "      <td>3.23e+09</td>\n",
       "      <td>Lottery A</td>\n",
       "      <td>No</td>\n",
       "      <td>Yes</td>\n",
       "      <td>...</td>\n",
       "      <td>&gt; 60</td>\n",
       "      <td>$150,000+</td>\n",
       "      <td>Graduate degree</td>\n",
       "      <td>South Atlantic</td>\n",
       "    </tr>\n",
       "    <tr>\n",
       "      <th>4</th>\n",
       "      <td>3.23e+09</td>\n",
       "      <td>Lottery B</td>\n",
       "      <td>Yes</td>\n",
       "      <td>Yes</td>\n",
       "      <td>...</td>\n",
       "      <td>&gt; 60</td>\n",
       "      <td>$50,000 - $99,999</td>\n",
       "      <td>Bachelor degree</td>\n",
       "      <td>New England</td>\n",
       "    </tr>\n",
       "    <tr>\n",
       "      <th>5</th>\n",
       "      <td>3.23e+09</td>\n",
       "      <td>Lottery B</td>\n",
       "      <td>No</td>\n",
       "      <td>Yes</td>\n",
       "      <td>...</td>\n",
       "      <td>&gt; 60</td>\n",
       "      <td>$50,000 - $99,999</td>\n",
       "      <td>Graduate degree</td>\n",
       "      <td>Middle Atlantic</td>\n",
       "    </tr>\n",
       "  </tbody>\n",
       "</table>\n",
       "<p>5 rows × 15 columns</p>\n",
       "</div>"
      ],
      "text/plain": [
       "   RespondentID  \\\n",
       "1      3.24e+09   \n",
       "2      3.23e+09   \n",
       "3      3.23e+09   \n",
       "4      3.23e+09   \n",
       "5      3.23e+09   \n",
       "\n",
       "  Consider the following hypothetical situations: <br>In Lottery A, you have a 50% chance of success, with a payout of $100. <br>In Lottery B, you have a 90% chance of success, with a payout of $20. <br><br>Assuming you have $10 to bet, would you play Lottery A or Lottery B?  \\\n",
       "1                                          Lottery B                                                                                                                                                                                                                                  \n",
       "2                                          Lottery A                                                                                                                                                                                                                                  \n",
       "3                                          Lottery A                                                                                                                                                                                                                                  \n",
       "4                                          Lottery B                                                                                                                                                                                                                                  \n",
       "5                                          Lottery B                                                                                                                                                                                                                                  \n",
       "\n",
       "  Do you ever smoke cigarettes? Do you ever drink alcohol?  ...   Age  \\\n",
       "1                           NaN                        NaN  ...   NaN   \n",
       "2                            No                        Yes  ...  > 60   \n",
       "3                            No                        Yes  ...  > 60   \n",
       "4                           Yes                        Yes  ...  > 60   \n",
       "5                            No                        Yes  ...  > 60   \n",
       "\n",
       "    Household Income                         Education  \\\n",
       "1                NaN                               NaN   \n",
       "2  $50,000 - $99,999  Some college or Associate degree   \n",
       "3          $150,000+                   Graduate degree   \n",
       "4  $50,000 - $99,999                   Bachelor degree   \n",
       "5  $50,000 - $99,999                   Graduate degree   \n",
       "\n",
       "  Location (Census Region)  \n",
       "1                      NaN  \n",
       "2       East North Central  \n",
       "3           South Atlantic  \n",
       "4              New England  \n",
       "5          Middle Atlantic  \n",
       "\n",
       "[5 rows x 15 columns]"
      ]
     },
     "execution_count": 8,
     "metadata": {},
     "output_type": "execute_result"
    }
   ],
   "source": [
    "# YOUR CODE HERE\n",
    "survey = survey.drop(labels=[0], axis='rows')\n",
    "survey.head()"
   ]
  },
  {
   "cell_type": "code",
   "execution_count": 9,
   "metadata": {
    "deletable": false,
    "editable": false,
    "nbgrader": {
     "cell_type": "code",
     "checksum": "2f1ed6a4c8e98e08bcf8f4b02e374084",
     "grade": true,
     "grade_id": "cell-3969e31aae66b836",
     "locked": true,
     "points": 0.2,
     "schema_version": 3,
     "solution": false
    }
   },
   "outputs": [],
   "source": [
    "# Do not edit this cell. This cell is for testing purposes\n",
    "### BEGIN TESTS\n",
    "assert survey.shape == (550, 15)\n",
    "### END TESTS"
   ]
  },
  {
   "cell_type": "code",
   "execution_count": 10,
   "metadata": {
    "deletable": false,
    "editable": false,
    "nbgrader": {
     "cell_type": "code",
     "checksum": "a69b1b3f3c424a9929dc61947372511e",
     "grade": true,
     "grade_id": "cell-d3cf9af60d6a942b",
     "locked": true,
     "points": 0.2,
     "schema_version": 3,
     "solution": false,
     "task": false
    }
   },
   "outputs": [],
   "source": [
    "# Do not edit this cell. This cell is for testing purposes"
   ]
  },
  {
   "cell_type": "markdown",
   "metadata": {
    "deletable": false,
    "editable": false,
    "nbgrader": {
     "cell_type": "markdown",
     "checksum": "8aad462434544967b7b0ed809e19fcae",
     "grade": false,
     "grade_id": "cell-4bb9fdbe8e3ebfdd",
     "locked": true,
     "schema_version": 3,
     "solution": false
    }
   },
   "source": [
    "Notice that there are a lot of different questions that were asked of respondents (columns) and 550 people who responded to the survey (rows). "
   ]
  },
  {
   "cell_type": "markdown",
   "metadata": {
    "deletable": false,
    "editable": false,
    "nbgrader": {
     "cell_type": "markdown",
     "checksum": "dc3e17c701ce77e09d81328a83dcbbe7",
     "grade": false,
     "grade_id": "cell-53ae24cf81d72b9d",
     "locked": true,
     "schema_version": 3,
     "solution": false
    }
   },
   "source": [
    "**Print a list of all the column names in this DataFrame.**\n",
    "\n",
    "We'll only end up working with a subset of these."
   ]
  },
  {
   "cell_type": "code",
   "execution_count": 11,
   "metadata": {
    "deletable": false,
    "nbgrader": {
     "cell_type": "code",
     "checksum": "f1ca306bfc0b509a75f0146b9d99e984",
     "grade": false,
     "grade_id": "cell-c91f7a1c6729ad43",
     "locked": false,
     "schema_version": 3,
     "solution": true
    }
   },
   "outputs": [
    {
     "name": "stdout",
     "output_type": "stream",
     "text": [
      "Index(['RespondentID',\n",
      "       'Consider the following hypothetical situations: <br>In Lottery A, you have a 50% chance of success, with a payout of $100. <br>In Lottery B, you have a 90% chance of success, with a payout of $20. <br><br>Assuming you have $10 to bet, would you play Lottery A or Lottery B?',\n",
      "       'Do you ever smoke cigarettes?', 'Do you ever drink alcohol?',\n",
      "       'Do you ever gamble?', 'Have you ever been skydiving?',\n",
      "       'Do you ever drive above the speed limit?',\n",
      "       'Have you ever cheated on your significant other?', 'Do you eat steak?',\n",
      "       'How do you like your steak prepared?', 'Gender', 'Age',\n",
      "       'Household Income', 'Education', 'Location (Census Region)'],\n",
      "      dtype='object')\n"
     ]
    }
   ],
   "source": [
    "# YOUR CODE HERE\n",
    "print(survey.columns)"
   ]
  },
  {
   "cell_type": "markdown",
   "metadata": {
    "deletable": false,
    "editable": false,
    "nbgrader": {
     "cell_type": "markdown",
     "checksum": "92f4861a284ea1b384f12b29e41226fd",
     "grade": false,
     "grade_id": "cell-b7a5286bb9610982",
     "locked": true,
     "schema_version": 3,
     "solution": false
    }
   },
   "source": [
    "Now we have a sense of what information is included in the dataset. In the coming weeks, we'll answer the following questions:\n",
    "1. Who cheats more on their significant other - males or females?\n",
    "2. Are cigarette smokers less likely to skydive?\n",
    "3. Do people in New England gamble more than other parts of the country?\n",
    "\n",
    "To answer these we'll only need data from *some* of the columns in the dataset."
   ]
  },
  {
   "cell_type": "markdown",
   "metadata": {
    "deletable": false,
    "editable": false,
    "nbgrader": {
     "cell_type": "markdown",
     "checksum": "c3e721baa7f3edd59be43cacc6d50d02",
     "grade": false,
     "grade_id": "cell-1840559f4a8cf120",
     "locked": true,
     "schema_version": 3,
     "solution": false
    }
   },
   "source": [
    "Let's drop the columns we don't need. **Drop the first two columns from the dataset. This should still be assigned to the variable `survey`.**"
   ]
  },
  {
   "cell_type": "code",
   "execution_count": 12,
   "metadata": {
    "deletable": false,
    "nbgrader": {
     "cell_type": "code",
     "checksum": "1f69722a649b9f6e32382dd3952872fb",
     "grade": false,
     "grade_id": "cell-8a1106312081bab5",
     "locked": false,
     "schema_version": 3,
     "solution": true
    }
   },
   "outputs": [
    {
     "data": {
      "text/html": [
       "<div>\n",
       "<style scoped>\n",
       "    .dataframe tbody tr th:only-of-type {\n",
       "        vertical-align: middle;\n",
       "    }\n",
       "\n",
       "    .dataframe tbody tr th {\n",
       "        vertical-align: top;\n",
       "    }\n",
       "\n",
       "    .dataframe thead th {\n",
       "        text-align: right;\n",
       "    }\n",
       "</style>\n",
       "<table border=\"1\" class=\"dataframe\">\n",
       "  <thead>\n",
       "    <tr style=\"text-align: right;\">\n",
       "      <th></th>\n",
       "      <th>Do you ever smoke cigarettes?</th>\n",
       "      <th>Do you ever drink alcohol?</th>\n",
       "      <th>Do you ever gamble?</th>\n",
       "      <th>Have you ever been skydiving?</th>\n",
       "      <th>...</th>\n",
       "      <th>Age</th>\n",
       "      <th>Household Income</th>\n",
       "      <th>Education</th>\n",
       "      <th>Location (Census Region)</th>\n",
       "    </tr>\n",
       "  </thead>\n",
       "  <tbody>\n",
       "    <tr>\n",
       "      <th>1</th>\n",
       "      <td>NaN</td>\n",
       "      <td>NaN</td>\n",
       "      <td>NaN</td>\n",
       "      <td>NaN</td>\n",
       "      <td>...</td>\n",
       "      <td>NaN</td>\n",
       "      <td>NaN</td>\n",
       "      <td>NaN</td>\n",
       "      <td>NaN</td>\n",
       "    </tr>\n",
       "    <tr>\n",
       "      <th>2</th>\n",
       "      <td>No</td>\n",
       "      <td>Yes</td>\n",
       "      <td>No</td>\n",
       "      <td>No</td>\n",
       "      <td>...</td>\n",
       "      <td>&gt; 60</td>\n",
       "      <td>$50,000 - $99,999</td>\n",
       "      <td>Some college or Associate degree</td>\n",
       "      <td>East North Central</td>\n",
       "    </tr>\n",
       "    <tr>\n",
       "      <th>3</th>\n",
       "      <td>No</td>\n",
       "      <td>Yes</td>\n",
       "      <td>Yes</td>\n",
       "      <td>No</td>\n",
       "      <td>...</td>\n",
       "      <td>&gt; 60</td>\n",
       "      <td>$150,000+</td>\n",
       "      <td>Graduate degree</td>\n",
       "      <td>South Atlantic</td>\n",
       "    </tr>\n",
       "    <tr>\n",
       "      <th>...</th>\n",
       "      <td>...</td>\n",
       "      <td>...</td>\n",
       "      <td>...</td>\n",
       "      <td>...</td>\n",
       "      <td>...</td>\n",
       "      <td>...</td>\n",
       "      <td>...</td>\n",
       "      <td>...</td>\n",
       "      <td>...</td>\n",
       "    </tr>\n",
       "    <tr>\n",
       "      <th>548</th>\n",
       "      <td>Yes</td>\n",
       "      <td>Yes</td>\n",
       "      <td>Yes</td>\n",
       "      <td>No</td>\n",
       "      <td>...</td>\n",
       "      <td>30-44</td>\n",
       "      <td>$50,000 - $99,999</td>\n",
       "      <td>Some college or Associate degree</td>\n",
       "      <td>South Atlantic</td>\n",
       "    </tr>\n",
       "    <tr>\n",
       "      <th>549</th>\n",
       "      <td>No</td>\n",
       "      <td>Yes</td>\n",
       "      <td>Yes</td>\n",
       "      <td>No</td>\n",
       "      <td>...</td>\n",
       "      <td>45-60</td>\n",
       "      <td>$50,000 - $99,999</td>\n",
       "      <td>Some college or Associate degree</td>\n",
       "      <td>Pacific</td>\n",
       "    </tr>\n",
       "    <tr>\n",
       "      <th>550</th>\n",
       "      <td>Yes</td>\n",
       "      <td>Yes</td>\n",
       "      <td>Yes</td>\n",
       "      <td>No</td>\n",
       "      <td>...</td>\n",
       "      <td>18-29</td>\n",
       "      <td>$0 - $24,999</td>\n",
       "      <td>NaN</td>\n",
       "      <td>Mountain</td>\n",
       "    </tr>\n",
       "  </tbody>\n",
       "</table>\n",
       "<p>550 rows × 13 columns</p>\n",
       "</div>"
      ],
      "text/plain": [
       "    Do you ever smoke cigarettes? Do you ever drink alcohol?  \\\n",
       "1                             NaN                        NaN   \n",
       "2                              No                        Yes   \n",
       "3                              No                        Yes   \n",
       "..                            ...                        ...   \n",
       "548                           Yes                        Yes   \n",
       "549                            No                        Yes   \n",
       "550                           Yes                        Yes   \n",
       "\n",
       "    Do you ever gamble? Have you ever been skydiving?  ...    Age  \\\n",
       "1                   NaN                           NaN  ...    NaN   \n",
       "2                    No                            No  ...   > 60   \n",
       "3                   Yes                            No  ...   > 60   \n",
       "..                  ...                           ...  ...    ...   \n",
       "548                 Yes                            No  ...  30-44   \n",
       "549                 Yes                            No  ...  45-60   \n",
       "550                 Yes                            No  ...  18-29   \n",
       "\n",
       "      Household Income                         Education  \\\n",
       "1                  NaN                               NaN   \n",
       "2    $50,000 - $99,999  Some college or Associate degree   \n",
       "3            $150,000+                   Graduate degree   \n",
       "..                 ...                               ...   \n",
       "548  $50,000 - $99,999  Some college or Associate degree   \n",
       "549  $50,000 - $99,999  Some college or Associate degree   \n",
       "550       $0 - $24,999                               NaN   \n",
       "\n",
       "    Location (Census Region)  \n",
       "1                        NaN  \n",
       "2         East North Central  \n",
       "3             South Atlantic  \n",
       "..                       ...  \n",
       "548           South Atlantic  \n",
       "549                  Pacific  \n",
       "550                 Mountain  \n",
       "\n",
       "[550 rows x 13 columns]"
      ]
     },
     "execution_count": 12,
     "metadata": {},
     "output_type": "execute_result"
    }
   ],
   "source": [
    "# YOUR CODE HERE\n",
    "survey = survey.drop(survey.columns[[0,1]], axis='columns')\n",
    "survey"
   ]
  },
  {
   "cell_type": "code",
   "execution_count": 13,
   "metadata": {
    "deletable": false,
    "editable": false,
    "nbgrader": {
     "cell_type": "code",
     "checksum": "99215930b0299e883175304272f45c94",
     "grade": true,
     "grade_id": "cell-89822f596640cd4e",
     "locked": true,
     "points": 0.2,
     "schema_version": 3,
     "solution": false
    }
   },
   "outputs": [],
   "source": [
    "# Do not edit this cell. This cell is for testing purposes\n",
    "### BEGIN TESTS\n",
    "assert survey.shape == (550,13)\n",
    "### END TESTS"
   ]
  },
  {
   "cell_type": "code",
   "execution_count": 14,
   "metadata": {
    "deletable": false,
    "editable": false,
    "nbgrader": {
     "cell_type": "code",
     "checksum": "3f4c80d724b9d68078aea24f1b2377f3",
     "grade": true,
     "grade_id": "cell-7951ab60702eea97",
     "locked": true,
     "points": 0.2,
     "schema_version": 3,
     "solution": false,
     "task": false
    }
   },
   "outputs": [],
   "source": [
    "# Do not edit this cell. This cell is for testing purposes"
   ]
  },
  {
   "cell_type": "markdown",
   "metadata": {
    "deletable": false,
    "editable": false,
    "nbgrader": {
     "cell_type": "markdown",
     "checksum": "b4d042074415a053a5e2a4b474bd26d5",
     "grade": false,
     "grade_id": "cell-6b88867c4c1c98b7",
     "locked": true,
     "schema_version": 3,
     "solution": false,
     "task": false
    }
   },
   "source": [
    "Now that we've got the columns we want, let's clean up those column names. **Rename the columns in `survey` so the appropriate columns have the following names:**\n",
    "\n",
    "* smoking\n",
    "* alcohol\n",
    "* gambling\n",
    "* skydiving\n",
    "* speeding\n",
    "* cheated\n",
    "* steak\n",
    "* steak_preference\n",
    "* gender\n",
    "* age\n",
    "* income \n",
    "* education\n",
    "* region\n",
    "\n",
    "Note that a list has been provided here, with these names, so you don't have to type them all:"
   ]
  },
  {
   "cell_type": "code",
   "execution_count": 15,
   "metadata": {
    "deletable": false,
    "editable": false,
    "nbgrader": {
     "cell_type": "code",
     "checksum": "c5d35f2031301a8e20fe11c62338f580",
     "grade": false,
     "grade_id": "cell-4f1f678270a83a17",
     "locked": true,
     "schema_version": 3,
     "solution": false,
     "task": false
    }
   },
   "outputs": [
    {
     "data": {
      "text/plain": [
       "['smoking',\n",
       " 'alcohol',\n",
       " 'gambling',\n",
       " 'skydiving',\n",
       " 'speeding',\n",
       " 'cheated',\n",
       " 'steak',\n",
       " 'steak_preference',\n",
       " 'gender',\n",
       " 'age',\n",
       " 'income',\n",
       " 'education',\n",
       " 'region']"
      ]
     },
     "execution_count": 15,
     "metadata": {},
     "output_type": "execute_result"
    }
   ],
   "source": [
    "['smoking','alcohol','gambling',\n",
    " 'skydiving','speeding', 'cheated',\n",
    " 'steak', 'steak_preference','gender',\n",
    " 'age', 'income', 'education', 'region']"
   ]
  },
  {
   "cell_type": "code",
   "execution_count": 16,
   "metadata": {},
   "outputs": [
    {
     "data": {
      "text/plain": [
       "['Do you ever smoke cigarettes?',\n",
       " 'Do you ever drink alcohol?',\n",
       " 'Do you ever gamble?',\n",
       " 'Have you ever been skydiving?',\n",
       " 'Do you ever drive above the speed limit?',\n",
       " 'Have you ever cheated on your significant other?',\n",
       " 'Do you eat steak?',\n",
       " 'How do you like your steak prepared?',\n",
       " 'Gender',\n",
       " 'Age',\n",
       " 'Household Income',\n",
       " 'Education',\n",
       " 'Location (Census Region)']"
      ]
     },
     "execution_count": 16,
     "metadata": {},
     "output_type": "execute_result"
    }
   ],
   "source": [
    "['Do you ever smoke cigarettes?', 'Do you ever drink alcohol?',\n",
    "       'Do you ever gamble?', 'Have you ever been skydiving?',\n",
    "       'Do you ever drive above the speed limit?',\n",
    "       'Have you ever cheated on your significant other?', 'Do you eat steak?',\n",
    "       'How do you like your steak prepared?', 'Gender', 'Age',\n",
    "       'Household Income', 'Education', 'Location (Census Region)']"
   ]
  },
  {
   "cell_type": "code",
   "execution_count": 17,
   "metadata": {
    "deletable": false,
    "nbgrader": {
     "cell_type": "code",
     "checksum": "a45282af96641004367c28954475f9ec",
     "grade": false,
     "grade_id": "cell-ff9ae6330821a062",
     "locked": false,
     "schema_version": 3,
     "solution": true
    }
   },
   "outputs": [
    {
     "name": "stdout",
     "output_type": "stream",
     "text": [
      "Index(['smoking', 'alcohol', 'gambling', 'skydiving', 'speeding', 'cheated',\n",
      "       'steak', 'steak_preference', 'gender', 'age', 'income', 'education',\n",
      "       'region'],\n",
      "      dtype='object')\n"
     ]
    }
   ],
   "source": [
    "# YOUR CODE HERE\n",
    "survey = survey.rename(columns={'Do you ever smoke cigarettes?':'smoking', 'Do you ever drink alcohol?':'alcohol', 'Do you ever gamble?':'gambling', 'Have you ever been skydiving?':'skydiving',\n",
    "       'Do you ever drive above the speed limit?':'speeding',\n",
    "       'Have you ever cheated on your significant other?':'cheated', 'Do you eat steak?':'steak',\n",
    "       'How do you like your steak prepared?':'steak_preference', 'Gender':'gender', 'Age':'age',\n",
    "       'Household Income':'income', 'Education':'education', 'Location (Census Region)':'region'})\n",
    "print(survey.columns)"
   ]
  },
  {
   "cell_type": "code",
   "execution_count": 18,
   "metadata": {
    "deletable": false,
    "editable": false,
    "nbgrader": {
     "cell_type": "code",
     "checksum": "c5e00b485e42a1ac6d9dff9d67190acb",
     "grade": true,
     "grade_id": "cell-6f37071b8c831964",
     "locked": true,
     "points": 0.1,
     "schema_version": 3,
     "solution": false,
     "task": false
    }
   },
   "outputs": [],
   "source": [
    "# Do not edit this cell. This cell is for testing purposes\n",
    "### BEGIN TESTS\n",
    "assert survey.shape == (550,13)\n",
    "### END TESTS"
   ]
  },
  {
   "cell_type": "code",
   "execution_count": 19,
   "metadata": {
    "deletable": false,
    "editable": false,
    "nbgrader": {
     "cell_type": "code",
     "checksum": "2ee04182e5eb1a02fe4110bc39a2e2ae",
     "grade": true,
     "grade_id": "cell-ac6bcfa7d1ac939d",
     "locked": true,
     "points": 0.1,
     "schema_version": 3,
     "solution": false,
     "task": false
    }
   },
   "outputs": [],
   "source": [
    "# Do not edit this cell. This cell is for testing purposes"
   ]
  },
  {
   "cell_type": "markdown",
   "metadata": {
    "deletable": false,
    "editable": false,
    "nbgrader": {
     "cell_type": "markdown",
     "checksum": "71895abdf951329c11567fed7b5e4ff0",
     "grade": false,
     "grade_id": "cell-0b7af4b27afc7398",
     "locked": true,
     "schema_version": 3,
     "solution": false
    }
   },
   "source": [
    "We're in pretty good shape now. **Print the first few rows of the `survey` DataFrame to see what the data look like at this point.**"
   ]
  },
  {
   "cell_type": "code",
   "execution_count": 20,
   "metadata": {},
   "outputs": [
    {
     "data": {
      "text/html": [
       "<div>\n",
       "<style scoped>\n",
       "    .dataframe tbody tr th:only-of-type {\n",
       "        vertical-align: middle;\n",
       "    }\n",
       "\n",
       "    .dataframe tbody tr th {\n",
       "        vertical-align: top;\n",
       "    }\n",
       "\n",
       "    .dataframe thead th {\n",
       "        text-align: right;\n",
       "    }\n",
       "</style>\n",
       "<table border=\"1\" class=\"dataframe\">\n",
       "  <thead>\n",
       "    <tr style=\"text-align: right;\">\n",
       "      <th></th>\n",
       "      <th>smoking</th>\n",
       "      <th>alcohol</th>\n",
       "      <th>gambling</th>\n",
       "      <th>skydiving</th>\n",
       "      <th>...</th>\n",
       "      <th>age</th>\n",
       "      <th>income</th>\n",
       "      <th>education</th>\n",
       "      <th>region</th>\n",
       "    </tr>\n",
       "  </thead>\n",
       "  <tbody>\n",
       "    <tr>\n",
       "      <th>1</th>\n",
       "      <td>NaN</td>\n",
       "      <td>NaN</td>\n",
       "      <td>NaN</td>\n",
       "      <td>NaN</td>\n",
       "      <td>...</td>\n",
       "      <td>NaN</td>\n",
       "      <td>NaN</td>\n",
       "      <td>NaN</td>\n",
       "      <td>NaN</td>\n",
       "    </tr>\n",
       "    <tr>\n",
       "      <th>2</th>\n",
       "      <td>No</td>\n",
       "      <td>Yes</td>\n",
       "      <td>No</td>\n",
       "      <td>No</td>\n",
       "      <td>...</td>\n",
       "      <td>&gt; 60</td>\n",
       "      <td>$50,000 - $99,999</td>\n",
       "      <td>Some college or Associate degree</td>\n",
       "      <td>East North Central</td>\n",
       "    </tr>\n",
       "    <tr>\n",
       "      <th>3</th>\n",
       "      <td>No</td>\n",
       "      <td>Yes</td>\n",
       "      <td>Yes</td>\n",
       "      <td>No</td>\n",
       "      <td>...</td>\n",
       "      <td>&gt; 60</td>\n",
       "      <td>$150,000+</td>\n",
       "      <td>Graduate degree</td>\n",
       "      <td>South Atlantic</td>\n",
       "    </tr>\n",
       "    <tr>\n",
       "      <th>4</th>\n",
       "      <td>Yes</td>\n",
       "      <td>Yes</td>\n",
       "      <td>Yes</td>\n",
       "      <td>No</td>\n",
       "      <td>...</td>\n",
       "      <td>&gt; 60</td>\n",
       "      <td>$50,000 - $99,999</td>\n",
       "      <td>Bachelor degree</td>\n",
       "      <td>New England</td>\n",
       "    </tr>\n",
       "    <tr>\n",
       "      <th>5</th>\n",
       "      <td>No</td>\n",
       "      <td>Yes</td>\n",
       "      <td>No</td>\n",
       "      <td>No</td>\n",
       "      <td>...</td>\n",
       "      <td>&gt; 60</td>\n",
       "      <td>$50,000 - $99,999</td>\n",
       "      <td>Graduate degree</td>\n",
       "      <td>Middle Atlantic</td>\n",
       "    </tr>\n",
       "  </tbody>\n",
       "</table>\n",
       "<p>5 rows × 13 columns</p>\n",
       "</div>"
      ],
      "text/plain": [
       "  smoking alcohol gambling skydiving  ...   age             income  \\\n",
       "1     NaN     NaN      NaN       NaN  ...   NaN                NaN   \n",
       "2      No     Yes       No        No  ...  > 60  $50,000 - $99,999   \n",
       "3      No     Yes      Yes        No  ...  > 60          $150,000+   \n",
       "4     Yes     Yes      Yes        No  ...  > 60  $50,000 - $99,999   \n",
       "5      No     Yes       No        No  ...  > 60  $50,000 - $99,999   \n",
       "\n",
       "                          education              region  \n",
       "1                               NaN                 NaN  \n",
       "2  Some college or Associate degree  East North Central  \n",
       "3                   Graduate degree      South Atlantic  \n",
       "4                   Bachelor degree         New England  \n",
       "5                   Graduate degree     Middle Atlantic  \n",
       "\n",
       "[5 rows x 13 columns]"
      ]
     },
     "execution_count": 20,
     "metadata": {},
     "output_type": "execute_result"
    }
   ],
   "source": [
    "survey.head()"
   ]
  },
  {
   "cell_type": "markdown",
   "metadata": {
    "deletable": false,
    "editable": false,
    "nbgrader": {
     "cell_type": "markdown",
     "checksum": "0af69d167ab2786e71c0783d4e155cac",
     "grade": false,
     "grade_id": "cell-a8094e600740ec79",
     "locked": true,
     "schema_version": 3,
     "solution": false
    }
   },
   "source": [
    "# Part III: Cleaning"
   ]
  },
  {
   "cell_type": "markdown",
   "metadata": {
    "deletable": false,
    "editable": false,
    "nbgrader": {
     "cell_type": "markdown",
     "checksum": "32fd58844e15e6247206b244d1e0ebc1",
     "grade": false,
     "grade_id": "cell-eb47e86882621553",
     "locked": true,
     "schema_version": 3,
     "solution": false
    }
   },
   "source": [
    "**Now that we've go the data we need, let's get a sense for how much missing data there is in this dataset by determining how many null-containing rows there are in `survey`. Assign this value to the variable `null_rows`.**"
   ]
  },
  {
   "cell_type": "code",
   "execution_count": 21,
   "metadata": {
    "deletable": false,
    "nbgrader": {
     "cell_type": "code",
     "checksum": "a6b251b073b13bacee43af110dc48fd3",
     "grade": false,
     "grade_id": "cell-5bc6a10438afe331",
     "locked": false,
     "schema_version": 3,
     "solution": true
    }
   },
   "outputs": [
    {
     "name": "stdout",
     "output_type": "stream",
     "text": [
      "217\n"
     ]
    }
   ],
   "source": [
    "# YOUR CODE HERE\n",
    "null_rows=survey.isnull().any(axis='columns').sum()\n",
    "print(null_rows)"
   ]
  },
  {
   "cell_type": "code",
   "execution_count": 22,
   "metadata": {
    "deletable": false,
    "editable": false,
    "nbgrader": {
     "cell_type": "code",
     "checksum": "91718dc2b0a674259cad24c12fa6b338",
     "grade": true,
     "grade_id": "cell-e43974ae43ee28d8",
     "locked": true,
     "points": 0.2,
     "schema_version": 3,
     "solution": false
    }
   },
   "outputs": [],
   "source": [
    "# Do not edit this cell. This cell is for testing purposes\n",
    "### BEGIN TESTS\n",
    "assert null_rows == 217\n",
    "### END TESTS"
   ]
  },
  {
   "cell_type": "markdown",
   "metadata": {
    "deletable": false,
    "editable": false,
    "nbgrader": {
     "cell_type": "markdown",
     "checksum": "54d85b153108687490d0120271556076",
     "grade": false,
     "grade_id": "cell-4eed5130ae38d2f7",
     "locked": true,
     "schema_version": 3,
     "solution": false
    }
   },
   "source": [
    "Good to know that lots of people didn't answer every question. We'll keep that in mind as we work with this dataset."
   ]
  },
  {
   "cell_type": "markdown",
   "metadata": {
    "deletable": false,
    "editable": false,
    "nbgrader": {
     "cell_type": "markdown",
     "checksum": "936c4a2621a93aa05d223f1808b7f6a4",
     "grade": false,
     "grade_id": "cell-8db44d0d5ab8bfba",
     "locked": true,
     "schema_version": 3,
     "solution": false
    }
   },
   "source": [
    "Simply dropping missing observations is typically not good practice; however, in this case we'll drop observations that have missing data across the entire row, as these are individuals who didn't participate in the survey at all. **Remove rows where ALL the columns have missing data for that participant.**"
   ]
  },
  {
   "cell_type": "markdown",
   "metadata": {},
   "source": [
    "Run the following line to print out the docstring of the `dropna` function which includes description of what this method does, parameters and default values, and some usage examples."
   ]
  },
  {
   "cell_type": "code",
   "execution_count": 23,
   "metadata": {},
   "outputs": [
    {
     "data": {
      "text/plain": [
       "\u001b[0;31mSignature:\u001b[0m\n",
       "\u001b[0msurvey\u001b[0m\u001b[0;34m.\u001b[0m\u001b[0mdropna\u001b[0m\u001b[0;34m(\u001b[0m\u001b[0;34m\u001b[0m\n",
       "\u001b[0;34m\u001b[0m    \u001b[0;34m*\u001b[0m\u001b[0;34m,\u001b[0m\u001b[0;34m\u001b[0m\n",
       "\u001b[0;34m\u001b[0m    \u001b[0maxis\u001b[0m\u001b[0;34m:\u001b[0m \u001b[0;34m'Axis'\u001b[0m \u001b[0;34m=\u001b[0m \u001b[0;36m0\u001b[0m\u001b[0;34m,\u001b[0m\u001b[0;34m\u001b[0m\n",
       "\u001b[0;34m\u001b[0m    \u001b[0mhow\u001b[0m\u001b[0;34m:\u001b[0m \u001b[0;34m'AnyAll | lib.NoDefault'\u001b[0m \u001b[0;34m=\u001b[0m \u001b[0;34m<\u001b[0m\u001b[0mno_default\u001b[0m\u001b[0;34m>\u001b[0m\u001b[0;34m,\u001b[0m\u001b[0;34m\u001b[0m\n",
       "\u001b[0;34m\u001b[0m    \u001b[0mthresh\u001b[0m\u001b[0;34m:\u001b[0m \u001b[0;34m'int | lib.NoDefault'\u001b[0m \u001b[0;34m=\u001b[0m \u001b[0;34m<\u001b[0m\u001b[0mno_default\u001b[0m\u001b[0;34m>\u001b[0m\u001b[0;34m,\u001b[0m\u001b[0;34m\u001b[0m\n",
       "\u001b[0;34m\u001b[0m    \u001b[0msubset\u001b[0m\u001b[0;34m:\u001b[0m \u001b[0;34m'IndexLabel | None'\u001b[0m \u001b[0;34m=\u001b[0m \u001b[0;32mNone\u001b[0m\u001b[0;34m,\u001b[0m\u001b[0;34m\u001b[0m\n",
       "\u001b[0;34m\u001b[0m    \u001b[0minplace\u001b[0m\u001b[0;34m:\u001b[0m \u001b[0;34m'bool'\u001b[0m \u001b[0;34m=\u001b[0m \u001b[0;32mFalse\u001b[0m\u001b[0;34m,\u001b[0m\u001b[0;34m\u001b[0m\n",
       "\u001b[0;34m\u001b[0m    \u001b[0mignore_index\u001b[0m\u001b[0;34m:\u001b[0m \u001b[0;34m'bool'\u001b[0m \u001b[0;34m=\u001b[0m \u001b[0;32mFalse\u001b[0m\u001b[0;34m,\u001b[0m\u001b[0;34m\u001b[0m\n",
       "\u001b[0;34m\u001b[0m\u001b[0;34m)\u001b[0m \u001b[0;34m->\u001b[0m \u001b[0;34m'DataFrame | None'\u001b[0m\u001b[0;34m\u001b[0m\u001b[0;34m\u001b[0m\u001b[0m\n",
       "\u001b[0;31mDocstring:\u001b[0m\n",
       "Remove missing values.\n",
       "\n",
       "See the :ref:`User Guide <missing_data>` for more on which values are\n",
       "considered missing, and how to work with missing data.\n",
       "\n",
       "Parameters\n",
       "----------\n",
       "axis : {0 or 'index', 1 or 'columns'}, default 0\n",
       "    Determine if rows or columns which contain missing values are\n",
       "    removed.\n",
       "\n",
       "    * 0, or 'index' : Drop rows which contain missing values.\n",
       "    * 1, or 'columns' : Drop columns which contain missing value.\n",
       "\n",
       "    Only a single axis is allowed.\n",
       "\n",
       "how : {'any', 'all'}, default 'any'\n",
       "    Determine if row or column is removed from DataFrame, when we have\n",
       "    at least one NA or all NA.\n",
       "\n",
       "    * 'any' : If any NA values are present, drop that row or column.\n",
       "    * 'all' : If all values are NA, drop that row or column.\n",
       "\n",
       "thresh : int, optional\n",
       "    Require that many non-NA values. Cannot be combined with how.\n",
       "subset : column label or sequence of labels, optional\n",
       "    Labels along other axis to consider, e.g. if you are dropping rows\n",
       "    these would be a list of columns to include.\n",
       "inplace : bool, default False\n",
       "    Whether to modify the DataFrame rather than creating a new one.\n",
       "ignore_index : bool, default ``False``\n",
       "    If ``True``, the resulting axis will be labeled 0, 1, …, n - 1.\n",
       "\n",
       "    .. versionadded:: 2.0.0\n",
       "\n",
       "Returns\n",
       "-------\n",
       "DataFrame or None\n",
       "    DataFrame with NA entries dropped from it or None if ``inplace=True``.\n",
       "\n",
       "See Also\n",
       "--------\n",
       "DataFrame.isna: Indicate missing values.\n",
       "DataFrame.notna : Indicate existing (non-missing) values.\n",
       "DataFrame.fillna : Replace missing values.\n",
       "Series.dropna : Drop missing values.\n",
       "Index.dropna : Drop missing indices.\n",
       "\n",
       "Examples\n",
       "--------\n",
       ">>> df = pd.DataFrame({\"name\": ['Alfred', 'Batman', 'Catwoman'],\n",
       "...                    \"toy\": [np.nan, 'Batmobile', 'Bullwhip'],\n",
       "...                    \"born\": [pd.NaT, pd.Timestamp(\"1940-04-25\"),\n",
       "...                             pd.NaT]})\n",
       ">>> df\n",
       "       name        toy       born\n",
       "0    Alfred        NaN        NaT\n",
       "1    Batman  Batmobile 1940-04-25\n",
       "2  Catwoman   Bullwhip        NaT\n",
       "\n",
       "Drop the rows where at least one element is missing.\n",
       "\n",
       ">>> df.dropna()\n",
       "     name        toy       born\n",
       "1  Batman  Batmobile 1940-04-25\n",
       "\n",
       "Drop the columns where at least one element is missing.\n",
       "\n",
       ">>> df.dropna(axis='columns')\n",
       "       name\n",
       "0    Alfred\n",
       "1    Batman\n",
       "2  Catwoman\n",
       "\n",
       "Drop the rows where all elements are missing.\n",
       "\n",
       ">>> df.dropna(how='all')\n",
       "       name        toy       born\n",
       "0    Alfred        NaN        NaT\n",
       "1    Batman  Batmobile 1940-04-25\n",
       "2  Catwoman   Bullwhip        NaT\n",
       "\n",
       "Keep only the rows with at least 2 non-NA values.\n",
       "\n",
       ">>> df.dropna(thresh=2)\n",
       "       name        toy       born\n",
       "1    Batman  Batmobile 1940-04-25\n",
       "2  Catwoman   Bullwhip        NaT\n",
       "\n",
       "Define in which columns to look for missing values.\n",
       "\n",
       ">>> df.dropna(subset=['name', 'toy'])\n",
       "       name        toy       born\n",
       "1    Batman  Batmobile 1940-04-25\n",
       "2  Catwoman   Bullwhip        NaT\n",
       "\u001b[0;31mFile:\u001b[0m      /opt/conda/lib/python3.11/site-packages/pandas/core/frame.py\n",
       "\u001b[0;31mType:\u001b[0m      method"
      ]
     },
     "metadata": {},
     "output_type": "display_data"
    }
   ],
   "source": [
    "survey.dropna?"
   ]
  },
  {
   "cell_type": "code",
   "execution_count": 24,
   "metadata": {
    "deletable": false,
    "nbgrader": {
     "cell_type": "code",
     "checksum": "df6400d0684b3d48927e332e2035de07",
     "grade": false,
     "grade_id": "cell-b8417c0e50579e72",
     "locked": false,
     "schema_version": 3,
     "solution": true
    }
   },
   "outputs": [],
   "source": [
    "# YOUR CODE HERE\n",
    "survey = survey.dropna(how='all')"
   ]
  },
  {
   "cell_type": "code",
   "execution_count": 25,
   "metadata": {
    "deletable": false,
    "editable": false,
    "nbgrader": {
     "cell_type": "code",
     "checksum": "498c04c98415c6f27a51d073794b7a2f",
     "grade": true,
     "grade_id": "cell-27d421b2b5aaac0f",
     "locked": true,
     "points": 0.2,
     "schema_version": 3,
     "solution": false,
     "task": false
    }
   },
   "outputs": [],
   "source": [
    "# Do not edit this cell. This cell is for testing purposes\n",
    "### BEGIN TESTS\n",
    "assert survey.shape == (541, 13)\n",
    "### END TESTS"
   ]
  },
  {
   "cell_type": "markdown",
   "metadata": {
    "deletable": false,
    "editable": false,
    "nbgrader": {
     "cell_type": "markdown",
     "checksum": "5fe1435f8c698847fa78d934cf46245e",
     "grade": false,
     "grade_id": "cell-61694a481524ca98",
     "locked": true,
     "schema_version": 3,
     "solution": false
    }
   },
   "source": [
    "**Print the first few rows to remind yourself what the data look like at this point.**"
   ]
  },
  {
   "cell_type": "code",
   "execution_count": 26,
   "metadata": {
    "deletable": false,
    "nbgrader": {
     "cell_type": "code",
     "checksum": "fa1ca185ddd9292315b9019383ef5400",
     "grade": false,
     "grade_id": "cell-e1148cbe6b8da30b",
     "locked": false,
     "schema_version": 3,
     "solution": true
    }
   },
   "outputs": [
    {
     "name": "stdout",
     "output_type": "stream",
     "text": [
      "  smoking alcohol gambling skydiving  ...    age             income  \\\n",
      "2      No     Yes       No        No  ...   > 60  $50,000 - $99,999   \n",
      "3      No     Yes      Yes        No  ...   > 60          $150,000+   \n",
      "4     Yes     Yes      Yes        No  ...   > 60  $50,000 - $99,999   \n",
      "5      No     Yes       No        No  ...   > 60  $50,000 - $99,999   \n",
      "6      No      No       No        No  ...  18-29       $0 - $24,999   \n",
      "\n",
      "                          education              region  \n",
      "2  Some college or Associate degree  East North Central  \n",
      "3                   Graduate degree      South Atlantic  \n",
      "4                   Bachelor degree         New England  \n",
      "5                   Graduate degree     Middle Atlantic  \n",
      "6  Some college or Associate degree  West South Central  \n",
      "\n",
      "[5 rows x 13 columns]\n"
     ]
    }
   ],
   "source": [
    "# YOUR CODE HERE\n",
    "print(survey.head())"
   ]
  },
  {
   "cell_type": "markdown",
   "metadata": {
    "deletable": false,
    "editable": false,
    "nbgrader": {
     "cell_type": "markdown",
     "checksum": "d5daa04b38f5522707ab88b40e7e81eb",
     "grade": false,
     "grade_id": "cell-604215ae66eb058d",
     "locked": true,
     "schema_version": 3,
     "solution": false
    }
   },
   "source": [
    "Note that the first row no longer has all missing data here. We've got a dataset we can work with now!"
   ]
  },
  {
   "cell_type": "markdown",
   "metadata": {
    "deletable": false,
    "editable": false,
    "nbgrader": {
     "cell_type": "markdown",
     "checksum": "420933d55721e30730990697abd9af9b",
     "grade": false,
     "grade_id": "cell-56791987b2147cb7",
     "locked": true,
     "schema_version": 3,
     "solution": false
    }
   },
   "source": [
    "**Great work on this workbook! We'll continue to work with this dataset in section to answer our questions of interest. You can work on other parts of the class or help a classmate work through this - we always understand things best once we've had to explain them to someone else.**"
   ]
  },
  {
   "cell_type": "code",
   "execution_count": null,
   "metadata": {},
   "outputs": [],
   "source": []
  },
  {
   "cell_type": "code",
   "execution_count": null,
   "metadata": {},
   "outputs": [],
   "source": []
  },
  {
   "cell_type": "code",
   "execution_count": null,
   "metadata": {},
   "outputs": [],
   "source": []
  },
  {
   "cell_type": "code",
   "execution_count": null,
   "metadata": {},
   "outputs": [],
   "source": []
  },
  {
   "cell_type": "code",
   "execution_count": null,
   "metadata": {},
   "outputs": [],
   "source": []
  }
 ],
 "metadata": {
  "kernelspec": {
   "display_name": "Python 3 (ipykernel)",
   "language": "python",
   "name": "python3"
  },
  "language_info": {
   "codemirror_mode": {
    "name": "ipython",
    "version": 3
   },
   "file_extension": ".py",
   "mimetype": "text/x-python",
   "name": "python",
   "nbconvert_exporter": "python",
   "pygments_lexer": "ipython3",
   "version": "3.11.9"
  }
 },
 "nbformat": 4,
 "nbformat_minor": 4
}
