{
 "cells": [
  {
   "cell_type": "markdown",
   "metadata": {
    "deletable": false,
    "editable": false,
    "nbgrader": {
     "cell_type": "markdown",
     "checksum": "43418c173a7363ef4438dfedd7245c25",
     "grade": false,
     "grade_id": "cell-9f68e35383a61f73",
     "locked": true,
     "schema_version": 3,
     "solution": false
    }
   },
   "source": [
    "# D5: Inference\n",
    "\n",
    "In this notebook, we'll use statistical approaches to attempt to determine what countries the best soccer (football, for the rest of the world) players come from. Some argue that Brazil produces the best footballers, while others argue it's got to be France. (And other have different opinions still.) We'll investigate this question using FIFA data from 2020."
   ]
  },
  {
   "cell_type": "markdown",
   "metadata": {
    "deletable": false,
    "editable": false,
    "nbgrader": {
     "cell_type": "markdown",
     "checksum": "324f88730f22b5bd19210b7e54ff1a05",
     "grade": false,
     "grade_id": "cell-4351476348ccefd7",
     "locked": true,
     "schema_version": 3,
     "solution": false
    }
   },
   "source": [
    "Run the following cell. These are all you need for the assignment. Do not import additional packages."
   ]
  },
  {
   "cell_type": "code",
   "execution_count": 153,
   "metadata": {
    "deletable": false,
    "editable": false,
    "nbgrader": {
     "cell_type": "code",
     "checksum": "ed030c8111287b9a4f6db09f409b25d9",
     "grade": false,
     "grade_id": "cell-caa052157a575f54",
     "locked": true,
     "schema_version": 3,
     "solution": false
    }
   },
   "outputs": [],
   "source": [
    "# Imports \n",
    "%matplotlib inline\n",
    "\n",
    "import numpy as np\n",
    "import pandas as pd\n",
    "import matplotlib.pyplot as plt\n",
    "import math\n",
    "import seaborn as sns\n",
    "sns.set()\n",
    "sns.set_context('talk')\n",
    "\n",
    "import warnings\n",
    "warnings.filterwarnings('ignore')\n",
    "pd.set_option(\"display.max_columns\", 104)\n",
    "import patsy\n",
    "import statsmodels.api as sm\n",
    "import scipy.stats as stats\n",
    "from scipy.stats import ttest_ind, chisquare, normaltest\n",
    "# Note: the statsmodels import may print out a 'FutureWarning'. Thats fine."
   ]
  },
  {
   "cell_type": "markdown",
   "metadata": {
    "deletable": false,
    "editable": false,
    "nbgrader": {
     "cell_type": "markdown",
     "checksum": "09195493bbf51d4e8750f47e4dca269f",
     "grade": false,
     "grade_id": "cell-122a54abf4476e2a",
     "locked": true,
     "schema_version": 3,
     "solution": false
    }
   },
   "source": [
    "## Part 1: Data & Wrangling"
   ]
  },
  {
   "cell_type": "markdown",
   "metadata": {
    "deletable": false,
    "editable": false,
    "nbgrader": {
     "cell_type": "markdown",
     "checksum": "8d999054449cf2343e95d8cb8dc9ffdd",
     "grade": false,
     "grade_id": "cell-25d150d2c40fb908",
     "locked": true,
     "schema_version": 3,
     "solution": false
    }
   },
   "source": [
    "Fixing messy data makes up a large amount of the work of being a data scientist. \n",
    "\n",
    "The real world produces messy measurements and it is your job to find ways to standardize your data such that you can make useful analyses out of it. \n",
    "\n",
    "In this section, you will learn, and practice, how to successfully deal with unclean data."
   ]
  },
  {
   "cell_type": "markdown",
   "metadata": {
    "deletable": false,
    "editable": false,
    "nbgrader": {
     "cell_type": "markdown",
     "checksum": "1899bfe269ab5ff2ec87f598692cf094",
     "grade": false,
     "grade_id": "cell-fa2a938005a3c187",
     "locked": true,
     "schema_version": 3,
     "solution": false
    }
   },
   "source": [
    "### 1a) Load the data\n",
    "Import datafile `players.csv` into a DataFrame called `df`.\n",
    "\n",
    "Note these data come from [SOFIFA](https://sofifa.com/). Similar data have been scraped and shared on [Kaggle](https://www.kaggle.com/stefanoleone992/fifa-20-complete-player-dataset?select=players_20.csv); however the data we'll use here is distinct from that dataset."
   ]
  },
  {
   "cell_type": "code",
   "execution_count": 154,
   "metadata": {
    "deletable": false,
    "nbgrader": {
     "cell_type": "code",
     "checksum": "1afaa3a3e76c4c119457641b5ea49437",
     "grade": false,
     "grade_id": "cell-252b5cfd5c8ceff2",
     "locked": false,
     "schema_version": 3,
     "solution": true
    }
   },
   "outputs": [],
   "source": [
    "# YOUR CODE HERE\n",
    "df = pd.read_csv('players.csv')"
   ]
  },
  {
   "cell_type": "code",
   "execution_count": 155,
   "metadata": {
    "deletable": false,
    "editable": false,
    "nbgrader": {
     "cell_type": "code",
     "checksum": "0261e5b067b2874d4feb78127603173c",
     "grade": true,
     "grade_id": "1a_ans",
     "locked": true,
     "points": 0.2,
     "schema_version": 3,
     "solution": false,
     "task": false
    }
   },
   "outputs": [],
   "source": [
    "### BEGIN TESTS\n",
    "assert isinstance(df, pd.DataFrame)\n",
    "assert df.shape == (18278, 15)\n",
    "### END TESTS"
   ]
  },
  {
   "cell_type": "code",
   "execution_count": 156,
   "metadata": {
    "deletable": false,
    "editable": false,
    "nbgrader": {
     "cell_type": "code",
     "checksum": "73fd18848ab2cbaf83624544b3b5224b",
     "grade": false,
     "grade_id": "cell-61a420950f1db378",
     "locked": true,
     "schema_version": 3,
     "solution": false
    }
   },
   "outputs": [
    {
     "data": {
      "text/html": [
       "<div>\n",
       "<style scoped>\n",
       "    .dataframe tbody tr th:only-of-type {\n",
       "        vertical-align: middle;\n",
       "    }\n",
       "\n",
       "    .dataframe tbody tr th {\n",
       "        vertical-align: top;\n",
       "    }\n",
       "\n",
       "    .dataframe thead th {\n",
       "        text-align: right;\n",
       "    }\n",
       "</style>\n",
       "<table border=\"1\" class=\"dataframe\">\n",
       "  <thead>\n",
       "    <tr style=\"text-align: right;\">\n",
       "      <th></th>\n",
       "      <th>sofifa_id</th>\n",
       "      <th>short_name</th>\n",
       "      <th>age</th>\n",
       "      <th>dob</th>\n",
       "      <th>height</th>\n",
       "      <th>weight</th>\n",
       "      <th>nationality</th>\n",
       "      <th>club</th>\n",
       "      <th>overall</th>\n",
       "      <th>potential</th>\n",
       "      <th>value_eur</th>\n",
       "      <th>wage</th>\n",
       "      <th>player_positions</th>\n",
       "      <th>preferred_foot</th>\n",
       "      <th>international_reputation</th>\n",
       "    </tr>\n",
       "  </thead>\n",
       "  <tbody>\n",
       "    <tr>\n",
       "      <th>0</th>\n",
       "      <td>158023</td>\n",
       "      <td>L. Messi</td>\n",
       "      <td>32.0</td>\n",
       "      <td>NaN</td>\n",
       "      <td>170.0 cms</td>\n",
       "      <td>72.0 Kilograms</td>\n",
       "      <td>Argentina</td>\n",
       "      <td>FC Barcelona</td>\n",
       "      <td>94.0</td>\n",
       "      <td>94.0</td>\n",
       "      <td>95500000</td>\n",
       "      <td>565000.0</td>\n",
       "      <td>RW, CF, ST</td>\n",
       "      <td>Left</td>\n",
       "      <td>5</td>\n",
       "    </tr>\n",
       "    <tr>\n",
       "      <th>1</th>\n",
       "      <td>20801</td>\n",
       "      <td>Cristiano Ronaldo</td>\n",
       "      <td>34.0</td>\n",
       "      <td>1985-02-05</td>\n",
       "      <td>187.0 cms</td>\n",
       "      <td>83.0 Kilograms</td>\n",
       "      <td>Portugal</td>\n",
       "      <td>Juventus</td>\n",
       "      <td>93.0</td>\n",
       "      <td>93.0</td>\n",
       "      <td>58500000</td>\n",
       "      <td>405000.0</td>\n",
       "      <td>ST, LW</td>\n",
       "      <td>Right</td>\n",
       "      <td>5</td>\n",
       "    </tr>\n",
       "    <tr>\n",
       "      <th>2</th>\n",
       "      <td>190871</td>\n",
       "      <td>Neymar Jr</td>\n",
       "      <td>27.0</td>\n",
       "      <td>1992-02-05</td>\n",
       "      <td>175.0 cms</td>\n",
       "      <td>68.0 Kgs</td>\n",
       "      <td>Brazil</td>\n",
       "      <td>Paris Saint-Germain</td>\n",
       "      <td>92.0</td>\n",
       "      <td>92.0</td>\n",
       "      <td>105500000</td>\n",
       "      <td>290000.0</td>\n",
       "      <td>LW, CAM</td>\n",
       "      <td>Right</td>\n",
       "      <td>5</td>\n",
       "    </tr>\n",
       "    <tr>\n",
       "      <th>3</th>\n",
       "      <td>200389</td>\n",
       "      <td>J. Oblak</td>\n",
       "      <td>26.0</td>\n",
       "      <td>1993-01-07</td>\n",
       "      <td>74.0 in</td>\n",
       "      <td>87.0 Kilograms</td>\n",
       "      <td>Slovenia</td>\n",
       "      <td>Atlético Madrid</td>\n",
       "      <td>91.0</td>\n",
       "      <td>93.0</td>\n",
       "      <td>77500000</td>\n",
       "      <td>125000.0</td>\n",
       "      <td>GK</td>\n",
       "      <td>Right</td>\n",
       "      <td>3</td>\n",
       "    </tr>\n",
       "    <tr>\n",
       "      <th>4</th>\n",
       "      <td>183277</td>\n",
       "      <td>E. Hazard</td>\n",
       "      <td>28.0</td>\n",
       "      <td>1991-01-07</td>\n",
       "      <td>175.0 cms</td>\n",
       "      <td>163.0 Pounds</td>\n",
       "      <td>Belgium</td>\n",
       "      <td>Real Madrid</td>\n",
       "      <td>91.0</td>\n",
       "      <td>91.0</td>\n",
       "      <td>90000000</td>\n",
       "      <td>470000.0</td>\n",
       "      <td>LW, CF</td>\n",
       "      <td>Right</td>\n",
       "      <td>4</td>\n",
       "    </tr>\n",
       "  </tbody>\n",
       "</table>\n",
       "</div>"
      ],
      "text/plain": [
       "   sofifa_id         short_name   age         dob     height          weight  \\\n",
       "0     158023           L. Messi  32.0         NaN  170.0 cms  72.0 Kilograms   \n",
       "1      20801  Cristiano Ronaldo  34.0  1985-02-05  187.0 cms  83.0 Kilograms   \n",
       "2     190871          Neymar Jr  27.0  1992-02-05  175.0 cms        68.0 Kgs   \n",
       "3     200389           J. Oblak  26.0  1993-01-07    74.0 in  87.0 Kilograms   \n",
       "4     183277          E. Hazard  28.0  1991-01-07  175.0 cms    163.0 Pounds   \n",
       "\n",
       "  nationality                 club  overall  potential  value_eur      wage  \\\n",
       "0   Argentina         FC Barcelona     94.0       94.0   95500000  565000.0   \n",
       "1    Portugal             Juventus     93.0       93.0   58500000  405000.0   \n",
       "2      Brazil  Paris Saint-Germain     92.0       92.0  105500000  290000.0   \n",
       "3    Slovenia      Atlético Madrid     91.0       93.0   77500000  125000.0   \n",
       "4     Belgium          Real Madrid     91.0       91.0   90000000  470000.0   \n",
       "\n",
       "  player_positions preferred_foot  international_reputation  \n",
       "0       RW, CF, ST           Left                         5  \n",
       "1           ST, LW          Right                         5  \n",
       "2          LW, CAM          Right                         5  \n",
       "3               GK          Right                         3  \n",
       "4           LW, CF          Right                         4  "
      ]
     },
     "execution_count": 156,
     "metadata": {},
     "output_type": "execute_result"
    }
   ],
   "source": [
    "# Check out the data\n",
    "df.head(5)"
   ]
  },
  {
   "cell_type": "markdown",
   "metadata": {
    "deletable": false,
    "editable": false,
    "nbgrader": {
     "cell_type": "markdown",
     "checksum": "75ae0cf8497c1c019b4c7e326e5b0594",
     "grade": false,
     "grade_id": "cell-2b7366b65afc6bcc",
     "locked": true,
     "schema_version": 3,
     "solution": false
    }
   },
   "source": [
    "In the rest of Part 1, we will work on writing code, organized into functions that will allow us to transform similar respones into the same value. We will call this process: standardizing the data. \n",
    "\n",
    "The cell below provides an example for the kind of code you will need to write to answer this question. This example is separate from our actual data, and is a potential function we might use to standardize messy data - in this case, hypothetical data to the question 'What is your favourite major python version?'. \n",
    "\n",
    "Note some things used in this example that you need to use to standardize data:\n",
    "- string methods, such as `lower` and `strip` to transform strings\n",
    "- the `replace` string method, to replace a set of characters with something else\n",
    "- if/else statements that check what's in our string (number, letters, etc)\n",
    "- type casting, for example using `float()` to turn a variable into a float\n",
    "- using `np.nan` (which stands for 'not a number') to denote missing or unknown data"
   ]
  },
  {
   "cell_type": "markdown",
   "metadata": {
    "deletable": false,
    "editable": false,
    "nbgrader": {
     "cell_type": "markdown",
     "checksum": "7b2aaae06b03ffc757318a6caebab119",
     "grade": false,
     "grade_id": "cell-940126512cd89976",
     "locked": true,
     "schema_version": 3,
     "solution": false
    }
   },
   "source": [
    "The height column of the dataset is given and it is represented in either inches or centimeters. But, the data type is a string data type, the task here is to extract the number (in centimeters) and store it in the height column. The function given below `standardize_height` performs this task.\n",
    "\n",
    "After a quick glance at the dataset, you would know that there are 4 possible ways the height column is filled as:\n",
    "- It is represented in inches followed by `in` or `inches` to convey that the number is in inches.\n",
    "- It is represented in centimeters followed by `cms` or `centimeters` to convey that the number is in centimeters.\n",
    "\n",
    "The following is what the function does:\n",
    "- Convert all the characters to lower case using `lower'\n",
    "- Drop all white spaces using `strip`\n",
    "- Check if it is inches, if so replace the keywords as empty strings and then convert the string datatype to float and the convert it to centimeters and finally return this float\n",
    "- The same operation is as above is done, but the conversion from inches to centimeters isn't required here.\n",
    "\n",
    "A thing to note here :\n",
    "- The conditions for `inches` and `in` is checked simultaneously, though it could be done seperately (that is totally acceptable, this function is written to point out some common errors). Note that `replace` is used to replace `inches` first and then `in`, if it were the other way around, if the string contains `inches`, `in` would be replaced by an empty string and we would be left with `ches`, the conversion wouldn't be successful. \n"
   ]
  },
  {
   "cell_type": "code",
   "execution_count": 157,
   "metadata": {
    "deletable": false,
    "editable": false,
    "nbgrader": {
     "cell_type": "code",
     "checksum": "de1c6980f73ae7f775867b79b242226e",
     "grade": false,
     "grade_id": "cell-16789cd7e31e623f",
     "locked": true,
     "schema_version": 3,
     "solution": false
    }
   },
   "outputs": [],
   "source": [
    "def standardize_height(str_in):\n",
    "    \n",
    "    try:\n",
    "        str_in = str_in.lower()\n",
    "        str_in = str_in.strip()\n",
    "\n",
    "        if 'in' in str_in or 'inches' in str_in:\n",
    "            str_in = str_in.replace('inches', '')\n",
    "            str_in = str_in.replace('in', '')\n",
    "            output = float(str_in)\n",
    "            output = 2.54 * output\n",
    "        elif 'cms' in str_in or 'centimeters' in str_in:\n",
    "            str_in = str_in.replace('cms', '')\n",
    "            str_in = str_in.replace('centimeters', '')\n",
    "            output = float(str_in)\n",
    "        else:\n",
    "            output = np.nan\n",
    "    except:\n",
    "        output = np.nan\n",
    "        \n",
    "    return output"
   ]
  },
  {
   "cell_type": "code",
   "execution_count": 158,
   "metadata": {
    "deletable": false,
    "editable": false,
    "nbgrader": {
     "cell_type": "code",
     "checksum": "6ac9b578b26850ce5f6ad2f44d77701d",
     "grade": false,
     "grade_id": "cell-4ec0724720f5ffa0",
     "locked": true,
     "schema_version": 3,
     "solution": false
    }
   },
   "outputs": [],
   "source": [
    "assert standardize_height('180 cms') == 180\n",
    "assert np.isclose(standardize_height('70 inches'), 177.8)\n",
    "assert np.isnan(standardize_height('LOL'))"
   ]
  },
  {
   "cell_type": "markdown",
   "metadata": {
    "deletable": false,
    "editable": false,
    "nbgrader": {
     "cell_type": "markdown",
     "checksum": "2090a47dc68390955302668b41bcfda9",
     "grade": false,
     "grade_id": "cell-bdc400e73e4ded53",
     "locked": true,
     "schema_version": 3,
     "solution": false
    }
   },
   "source": [
    "We then have to apply the transformation using the function we just defined."
   ]
  },
  {
   "cell_type": "code",
   "execution_count": 159,
   "metadata": {
    "deletable": false,
    "editable": false,
    "nbgrader": {
     "cell_type": "code",
     "checksum": "bf8debd8e5d579077a905e8f41ec7d96",
     "grade": false,
     "grade_id": "cell-507ed9cfbd325f1b",
     "locked": true,
     "schema_version": 3,
     "solution": false
    }
   },
   "outputs": [],
   "source": [
    "df['height'] = df['height'].apply(standardize_height)"
   ]
  },
  {
   "cell_type": "code",
   "execution_count": 160,
   "metadata": {
    "deletable": false,
    "editable": false,
    "nbgrader": {
     "cell_type": "code",
     "checksum": "eb8f5a38d4ccb7b96bda2b9700a56fd2",
     "grade": false,
     "grade_id": "cell-928845467c9c5011",
     "locked": true,
     "schema_version": 3,
     "solution": false
    }
   },
   "outputs": [
    {
     "data": {
      "text/html": [
       "<div>\n",
       "<style scoped>\n",
       "    .dataframe tbody tr th:only-of-type {\n",
       "        vertical-align: middle;\n",
       "    }\n",
       "\n",
       "    .dataframe tbody tr th {\n",
       "        vertical-align: top;\n",
       "    }\n",
       "\n",
       "    .dataframe thead th {\n",
       "        text-align: right;\n",
       "    }\n",
       "</style>\n",
       "<table border=\"1\" class=\"dataframe\">\n",
       "  <thead>\n",
       "    <tr style=\"text-align: right;\">\n",
       "      <th></th>\n",
       "      <th>sofifa_id</th>\n",
       "      <th>short_name</th>\n",
       "      <th>age</th>\n",
       "      <th>dob</th>\n",
       "      <th>height</th>\n",
       "      <th>weight</th>\n",
       "      <th>nationality</th>\n",
       "      <th>club</th>\n",
       "      <th>overall</th>\n",
       "      <th>potential</th>\n",
       "      <th>value_eur</th>\n",
       "      <th>wage</th>\n",
       "      <th>player_positions</th>\n",
       "      <th>preferred_foot</th>\n",
       "      <th>international_reputation</th>\n",
       "    </tr>\n",
       "  </thead>\n",
       "  <tbody>\n",
       "    <tr>\n",
       "      <th>0</th>\n",
       "      <td>158023</td>\n",
       "      <td>L. Messi</td>\n",
       "      <td>32.0</td>\n",
       "      <td>NaN</td>\n",
       "      <td>170.00</td>\n",
       "      <td>72.0 Kilograms</td>\n",
       "      <td>Argentina</td>\n",
       "      <td>FC Barcelona</td>\n",
       "      <td>94.0</td>\n",
       "      <td>94.0</td>\n",
       "      <td>95500000</td>\n",
       "      <td>565000.0</td>\n",
       "      <td>RW, CF, ST</td>\n",
       "      <td>Left</td>\n",
       "      <td>5</td>\n",
       "    </tr>\n",
       "    <tr>\n",
       "      <th>1</th>\n",
       "      <td>20801</td>\n",
       "      <td>Cristiano Ronaldo</td>\n",
       "      <td>34.0</td>\n",
       "      <td>1985-02-05</td>\n",
       "      <td>187.00</td>\n",
       "      <td>83.0 Kilograms</td>\n",
       "      <td>Portugal</td>\n",
       "      <td>Juventus</td>\n",
       "      <td>93.0</td>\n",
       "      <td>93.0</td>\n",
       "      <td>58500000</td>\n",
       "      <td>405000.0</td>\n",
       "      <td>ST, LW</td>\n",
       "      <td>Right</td>\n",
       "      <td>5</td>\n",
       "    </tr>\n",
       "    <tr>\n",
       "      <th>2</th>\n",
       "      <td>190871</td>\n",
       "      <td>Neymar Jr</td>\n",
       "      <td>27.0</td>\n",
       "      <td>1992-02-05</td>\n",
       "      <td>175.00</td>\n",
       "      <td>68.0 Kgs</td>\n",
       "      <td>Brazil</td>\n",
       "      <td>Paris Saint-Germain</td>\n",
       "      <td>92.0</td>\n",
       "      <td>92.0</td>\n",
       "      <td>105500000</td>\n",
       "      <td>290000.0</td>\n",
       "      <td>LW, CAM</td>\n",
       "      <td>Right</td>\n",
       "      <td>5</td>\n",
       "    </tr>\n",
       "    <tr>\n",
       "      <th>3</th>\n",
       "      <td>200389</td>\n",
       "      <td>J. Oblak</td>\n",
       "      <td>26.0</td>\n",
       "      <td>1993-01-07</td>\n",
       "      <td>187.96</td>\n",
       "      <td>87.0 Kilograms</td>\n",
       "      <td>Slovenia</td>\n",
       "      <td>Atlético Madrid</td>\n",
       "      <td>91.0</td>\n",
       "      <td>93.0</td>\n",
       "      <td>77500000</td>\n",
       "      <td>125000.0</td>\n",
       "      <td>GK</td>\n",
       "      <td>Right</td>\n",
       "      <td>3</td>\n",
       "    </tr>\n",
       "    <tr>\n",
       "      <th>4</th>\n",
       "      <td>183277</td>\n",
       "      <td>E. Hazard</td>\n",
       "      <td>28.0</td>\n",
       "      <td>1991-01-07</td>\n",
       "      <td>175.00</td>\n",
       "      <td>163.0 Pounds</td>\n",
       "      <td>Belgium</td>\n",
       "      <td>Real Madrid</td>\n",
       "      <td>91.0</td>\n",
       "      <td>91.0</td>\n",
       "      <td>90000000</td>\n",
       "      <td>470000.0</td>\n",
       "      <td>LW, CF</td>\n",
       "      <td>Right</td>\n",
       "      <td>4</td>\n",
       "    </tr>\n",
       "  </tbody>\n",
       "</table>\n",
       "</div>"
      ],
      "text/plain": [
       "   sofifa_id         short_name   age         dob  height          weight  \\\n",
       "0     158023           L. Messi  32.0         NaN  170.00  72.0 Kilograms   \n",
       "1      20801  Cristiano Ronaldo  34.0  1985-02-05  187.00  83.0 Kilograms   \n",
       "2     190871          Neymar Jr  27.0  1992-02-05  175.00        68.0 Kgs   \n",
       "3     200389           J. Oblak  26.0  1993-01-07  187.96  87.0 Kilograms   \n",
       "4     183277          E. Hazard  28.0  1991-01-07  175.00    163.0 Pounds   \n",
       "\n",
       "  nationality                 club  overall  potential  value_eur      wage  \\\n",
       "0   Argentina         FC Barcelona     94.0       94.0   95500000  565000.0   \n",
       "1    Portugal             Juventus     93.0       93.0   58500000  405000.0   \n",
       "2      Brazil  Paris Saint-Germain     92.0       92.0  105500000  290000.0   \n",
       "3    Slovenia      Atlético Madrid     91.0       93.0   77500000  125000.0   \n",
       "4     Belgium          Real Madrid     91.0       91.0   90000000  470000.0   \n",
       "\n",
       "  player_positions preferred_foot  international_reputation  \n",
       "0       RW, CF, ST           Left                         5  \n",
       "1           ST, LW          Right                         5  \n",
       "2          LW, CAM          Right                         5  \n",
       "3               GK          Right                         3  \n",
       "4           LW, CF          Right                         4  "
      ]
     },
     "execution_count": 160,
     "metadata": {},
     "output_type": "execute_result"
    }
   ],
   "source": [
    "# just run this cell\n",
    "df.head(5)"
   ]
  },
  {
   "cell_type": "markdown",
   "metadata": {
    "deletable": false,
    "editable": false,
    "nbgrader": {
     "cell_type": "markdown",
     "checksum": "727a32791a5b2c9bb18c8dc9d5fa4d56",
     "grade": false,
     "grade_id": "cell-23811a6de901ba24",
     "locked": true,
     "schema_version": 3,
     "solution": false
    }
   },
   "source": [
    "### 1b) Standardize 'weight' function"
   ]
  },
  {
   "cell_type": "markdown",
   "metadata": {
    "deletable": false,
    "editable": false,
    "nbgrader": {
     "cell_type": "markdown",
     "checksum": "0d0c128a46b1dcc366cf762423769e61",
     "grade": false,
     "grade_id": "cell-e81c26b20ffb78a5",
     "locked": true,
     "schema_version": 3,
     "solution": false
    }
   },
   "source": [
    "Next let's check the 'weight' column. \n",
    "\n",
    "Check the different responses received for weight, including how many of each response we have"
   ]
  },
  {
   "cell_type": "code",
   "execution_count": 161,
   "metadata": {
    "deletable": false,
    "editable": false,
    "nbgrader": {
     "cell_type": "code",
     "checksum": "644072958620353b684f0054553a8845",
     "grade": false,
     "grade_id": "cell-a364c6969663170d",
     "locked": true,
     "schema_version": 3,
     "solution": false
    }
   },
   "outputs": [
    {
     "data": {
      "text/plain": [
       "weight\n",
       "70.0 Kilograms     586\n",
       "75.0 Kilograms     521\n",
       "165.0 Pounds       459\n",
       "154.0 Pounds       452\n",
       "80.0 Kilograms     432\n",
       "                  ... \n",
       "101.0 Kilograms      1\n",
       "114.0 lbs            1\n",
       "98.0 Kgs             1\n",
       "227.0 lbs            1\n",
       "220.0 Pounds         1\n",
       "Name: count, Length: 196, dtype: int64"
      ]
     },
     "execution_count": 161,
     "metadata": {},
     "output_type": "execute_result"
    }
   ],
   "source": [
    "# run this to see different weight input data\n",
    "df['weight'].value_counts()"
   ]
  },
  {
   "cell_type": "markdown",
   "metadata": {},
   "source": [
    "Using a similar approach to what we used for 'height', you'll write a `standardize_weight` function.\n",
    "\n",
    "To do this you'll:\n",
    "- `try` to:\n",
    "    - convert all text to lowercase\n",
    "    - use the string method `strip()` to remove leading and trailing characters from the gender value\n",
    "    - use an `if/elif/else` to:\n",
    "        - check if 'pounds' or 'lbs' exists. If so replace these words with an empty string, convert it to float, then to kilograms, and return it.\n",
    "        - check if 'kgs' or 'kilograms' exists. If so replace these words with an empty string and convert it to float and return this value.\n",
    "        - return `np.nan` otherwise.\n",
    "- `except`: return `np.nan`\n",
    "    \n",
    "Note: use `value in kilograms = 0.453592 * value in pounds`."
   ]
  },
  {
   "cell_type": "code",
   "execution_count": 162,
   "metadata": {
    "deletable": false,
    "nbgrader": {
     "cell_type": "code",
     "checksum": "ebc7f3514e89792e4cd486a0ffcf1098",
     "grade": false,
     "grade_id": "cell-2720852762f49edd",
     "locked": false,
     "schema_version": 3,
     "solution": true
    }
   },
   "outputs": [],
   "source": [
    "# YOUR CODE HERE\n",
    "def standardize_weight(weight):\n",
    "    try:\n",
    "        weight = weight.lower().strip()\n",
    "        if 'pounds' in weight or 'lbs' in weight:\n",
    "            value_in_pounds = float(weight.replace('pounds', '').replace('lbs', '').strip())\n",
    "            value_in_kilos = 0.453592 * value_in_pounds\n",
    "            return value_in_kilos \n",
    "        elif 'kgs' in weight or 'kilograms' in weight:\n",
    "            value_kilos = float(weight.replace('kgs', '').replace('kilograms', '').strip())\n",
    "            return value_kilos\n",
    "        else: return np.nan\n",
    "    except:\n",
    "        return np.nan"
   ]
  },
  {
   "cell_type": "code",
   "execution_count": 163,
   "metadata": {
    "deletable": false,
    "editable": false,
    "nbgrader": {
     "cell_type": "code",
     "checksum": "3eeccbc0f96ff4371c13e86568b5080b",
     "grade": true,
     "grade_id": "cell-a3748b058a2402f3",
     "locked": true,
     "points": 0.5,
     "schema_version": 3,
     "solution": false
    }
   },
   "outputs": [],
   "source": [
    "### BEGIN TESTS\n",
    "assert np.isclose(standardize_weight('200 Pounds'), 90.7, 0.1)\n",
    "assert standardize_weight('80.0 kgs') == 80\n",
    "assert np.isclose(standardize_weight('200 lbs'), 90.7, 0.1)\n",
    "assert standardize_weight('80.0 KILOGRAMS') == 80\n",
    "assert np.isnan(standardize_weight('unicorn'))\n",
    "### END TESTS"
   ]
  },
  {
   "cell_type": "markdown",
   "metadata": {
    "deletable": false,
    "editable": false,
    "nbgrader": {
     "cell_type": "markdown",
     "checksum": "cc698b546b999d3b9ffc4012c3b9d3bb",
     "grade": false,
     "grade_id": "cell-037459867516ae1d",
     "locked": true,
     "schema_version": 3,
     "solution": false
    }
   },
   "source": [
    "### 1c) Transform 'weight' column\n",
    "\n",
    "Apply the transformation, meaning, use your function and standardize weight in `df`"
   ]
  },
  {
   "cell_type": "code",
   "execution_count": 164,
   "metadata": {
    "deletable": false,
    "nbgrader": {
     "cell_type": "code",
     "checksum": "dba752821dca9f5e1df14a644c8a33f2",
     "grade": false,
     "grade_id": "cell-291cf93820c28b6d",
     "locked": false,
     "schema_version": 3,
     "solution": true
    }
   },
   "outputs": [],
   "source": [
    "# YOUR CODE HERE\n",
    "df['weight'] = df['weight'].apply(standardize_weight)"
   ]
  },
  {
   "cell_type": "code",
   "execution_count": 165,
   "metadata": {
    "deletable": false,
    "editable": false,
    "nbgrader": {
     "cell_type": "code",
     "checksum": "60ac2cc5449084179ef91d4996237ce9",
     "grade": false,
     "grade_id": "cell-17fff0622ea53c05",
     "locked": true,
     "schema_version": 3,
     "solution": false
    }
   },
   "outputs": [
    {
     "data": {
      "text/plain": [
       "array([ 72.      ,  83.      ,  68.      ,  87.      ,  73.935496,\n",
       "        70.      ,  84.821704,  91.625584,  66.      ,  70.760352,\n",
       "        73.      ,  89.      ,  91.      ,  81.64656 ,  71.667536,\n",
       "        69.853168,  85.728888,  80.      ,  76.      ,  72.57472 ,\n",
       "        75.      ,  84.      ,  86.      ,  69.      ,  75.749864,\n",
       "        96.      ,  85.      ,  92.      ,  66.678024,  77.      ,\n",
       "        78.      ,  71.      ,  64.      ,  83.91452 ,  67.      ,\n",
       "        82.      ,  80.739376,  60.781328,  93.893544,  81.      ,\n",
       "        79.832192,  58.96696 ,  74.84268 ,  59.874144,  89.811216,\n",
       "        78.925008,  74.      ,  97.      ,  68.945984,  94.      ,\n",
       "        82.553744,  64.863656,  95.      ,  67.585208,  77.564232,\n",
       "        79.      ,  61.      ,  93.      ,  63.      ,  76.657048,\n",
       "        90.7184  ,  62.      ,  88.904032,  90.      ,  88.      ,\n",
       "        63.956472,  65.77084 , 100.      ,  60.      ,  65.      ,\n",
       "        62.595696,  61.688512,  86.636072,  59.      ,  98.      ,\n",
       "        87.996848,  92.98636 ,  97.975872,  57.606184, 100.697424,\n",
       "       102.965384,  55.791816,  58.      ,  98.883056,  94.800728,\n",
       "        57.      , 102.      ,  95.707912,  96.615096,        nan,\n",
       "        55.      ,  51.709488, 101.      ,  54.      , 103.872568,\n",
       "        56.699   ,  56.      ,  99.      ,  54.884632, 107.      ,\n",
       "        53.      , 109.769264,  53.977448,  50.      , 103.      ,\n",
       "       104.      ,  52.      ,  52.616672,  99.79024 ])"
      ]
     },
     "execution_count": 165,
     "metadata": {},
     "output_type": "execute_result"
    }
   ],
   "source": [
    "# Check the results\n",
    "df['weight'].unique()"
   ]
  },
  {
   "cell_type": "code",
   "execution_count": 166,
   "metadata": {
    "deletable": false,
    "editable": false,
    "nbgrader": {
     "cell_type": "code",
     "checksum": "550222ab2c64534a405637048684e2d4",
     "grade": true,
     "grade_id": "cell-2c24bd8912a04a3f",
     "locked": true,
     "points": 0.3,
     "schema_version": 3,
     "solution": false,
     "task": false
    }
   },
   "outputs": [],
   "source": [
    "### BEGIN TESTS\n",
    "assert len(df['weight']) == 18278\n",
    "assert sum(df['weight'].isnull()) == 5\n",
    "assert df['weight'].median() == 75.\n",
    "### END TESTS"
   ]
  },
  {
   "cell_type": "code",
   "execution_count": 167,
   "metadata": {},
   "outputs": [
    {
     "data": {
      "text/html": [
       "<div>\n",
       "<style scoped>\n",
       "    .dataframe tbody tr th:only-of-type {\n",
       "        vertical-align: middle;\n",
       "    }\n",
       "\n",
       "    .dataframe tbody tr th {\n",
       "        vertical-align: top;\n",
       "    }\n",
       "\n",
       "    .dataframe thead th {\n",
       "        text-align: right;\n",
       "    }\n",
       "</style>\n",
       "<table border=\"1\" class=\"dataframe\">\n",
       "  <thead>\n",
       "    <tr style=\"text-align: right;\">\n",
       "      <th></th>\n",
       "      <th>sofifa_id</th>\n",
       "      <th>short_name</th>\n",
       "      <th>age</th>\n",
       "      <th>dob</th>\n",
       "      <th>height</th>\n",
       "      <th>weight</th>\n",
       "      <th>nationality</th>\n",
       "      <th>club</th>\n",
       "      <th>overall</th>\n",
       "      <th>potential</th>\n",
       "      <th>value_eur</th>\n",
       "      <th>wage</th>\n",
       "      <th>player_positions</th>\n",
       "      <th>preferred_foot</th>\n",
       "      <th>international_reputation</th>\n",
       "    </tr>\n",
       "  </thead>\n",
       "  <tbody>\n",
       "    <tr>\n",
       "      <th>0</th>\n",
       "      <td>158023</td>\n",
       "      <td>L. Messi</td>\n",
       "      <td>32.0</td>\n",
       "      <td>NaN</td>\n",
       "      <td>170.00</td>\n",
       "      <td>72.000000</td>\n",
       "      <td>Argentina</td>\n",
       "      <td>FC Barcelona</td>\n",
       "      <td>94.0</td>\n",
       "      <td>94.0</td>\n",
       "      <td>95500000</td>\n",
       "      <td>565000.0</td>\n",
       "      <td>RW, CF, ST</td>\n",
       "      <td>Left</td>\n",
       "      <td>5</td>\n",
       "    </tr>\n",
       "    <tr>\n",
       "      <th>1</th>\n",
       "      <td>20801</td>\n",
       "      <td>Cristiano Ronaldo</td>\n",
       "      <td>34.0</td>\n",
       "      <td>1985-02-05</td>\n",
       "      <td>187.00</td>\n",
       "      <td>83.000000</td>\n",
       "      <td>Portugal</td>\n",
       "      <td>Juventus</td>\n",
       "      <td>93.0</td>\n",
       "      <td>93.0</td>\n",
       "      <td>58500000</td>\n",
       "      <td>405000.0</td>\n",
       "      <td>ST, LW</td>\n",
       "      <td>Right</td>\n",
       "      <td>5</td>\n",
       "    </tr>\n",
       "    <tr>\n",
       "      <th>2</th>\n",
       "      <td>190871</td>\n",
       "      <td>Neymar Jr</td>\n",
       "      <td>27.0</td>\n",
       "      <td>1992-02-05</td>\n",
       "      <td>175.00</td>\n",
       "      <td>68.000000</td>\n",
       "      <td>Brazil</td>\n",
       "      <td>Paris Saint-Germain</td>\n",
       "      <td>92.0</td>\n",
       "      <td>92.0</td>\n",
       "      <td>105500000</td>\n",
       "      <td>290000.0</td>\n",
       "      <td>LW, CAM</td>\n",
       "      <td>Right</td>\n",
       "      <td>5</td>\n",
       "    </tr>\n",
       "    <tr>\n",
       "      <th>3</th>\n",
       "      <td>200389</td>\n",
       "      <td>J. Oblak</td>\n",
       "      <td>26.0</td>\n",
       "      <td>1993-01-07</td>\n",
       "      <td>187.96</td>\n",
       "      <td>87.000000</td>\n",
       "      <td>Slovenia</td>\n",
       "      <td>Atlético Madrid</td>\n",
       "      <td>91.0</td>\n",
       "      <td>93.0</td>\n",
       "      <td>77500000</td>\n",
       "      <td>125000.0</td>\n",
       "      <td>GK</td>\n",
       "      <td>Right</td>\n",
       "      <td>3</td>\n",
       "    </tr>\n",
       "    <tr>\n",
       "      <th>4</th>\n",
       "      <td>183277</td>\n",
       "      <td>E. Hazard</td>\n",
       "      <td>28.0</td>\n",
       "      <td>1991-01-07</td>\n",
       "      <td>175.00</td>\n",
       "      <td>73.935496</td>\n",
       "      <td>Belgium</td>\n",
       "      <td>Real Madrid</td>\n",
       "      <td>91.0</td>\n",
       "      <td>91.0</td>\n",
       "      <td>90000000</td>\n",
       "      <td>470000.0</td>\n",
       "      <td>LW, CF</td>\n",
       "      <td>Right</td>\n",
       "      <td>4</td>\n",
       "    </tr>\n",
       "  </tbody>\n",
       "</table>\n",
       "</div>"
      ],
      "text/plain": [
       "   sofifa_id         short_name   age         dob  height     weight  \\\n",
       "0     158023           L. Messi  32.0         NaN  170.00  72.000000   \n",
       "1      20801  Cristiano Ronaldo  34.0  1985-02-05  187.00  83.000000   \n",
       "2     190871          Neymar Jr  27.0  1992-02-05  175.00  68.000000   \n",
       "3     200389           J. Oblak  26.0  1993-01-07  187.96  87.000000   \n",
       "4     183277          E. Hazard  28.0  1991-01-07  175.00  73.935496   \n",
       "\n",
       "  nationality                 club  overall  potential  value_eur      wage  \\\n",
       "0   Argentina         FC Barcelona     94.0       94.0   95500000  565000.0   \n",
       "1    Portugal             Juventus     93.0       93.0   58500000  405000.0   \n",
       "2      Brazil  Paris Saint-Germain     92.0       92.0  105500000  290000.0   \n",
       "3    Slovenia      Atlético Madrid     91.0       93.0   77500000  125000.0   \n",
       "4     Belgium          Real Madrid     91.0       91.0   90000000  470000.0   \n",
       "\n",
       "  player_positions preferred_foot  international_reputation  \n",
       "0       RW, CF, ST           Left                         5  \n",
       "1           ST, LW          Right                         5  \n",
       "2          LW, CAM          Right                         5  \n",
       "3               GK          Right                         3  \n",
       "4           LW, CF          Right                         4  "
      ]
     },
     "execution_count": 167,
     "metadata": {},
     "output_type": "execute_result"
    }
   ],
   "source": [
    "df.head(5)"
   ]
  },
  {
   "cell_type": "markdown",
   "metadata": {
    "deletable": false,
    "editable": false,
    "nbgrader": {
     "cell_type": "markdown",
     "checksum": "5011c5567098ca44d4b14d9dd6f24c42",
     "grade": false,
     "grade_id": "cell-49aa6969fd4cb1b6",
     "locked": true,
     "schema_version": 3,
     "solution": false
    }
   },
   "source": [
    "## Part 2: EDA\n",
    "\n",
    "Now that our data are ready to go, let's understand a bit more about our data..."
   ]
  },
  {
   "cell_type": "markdown",
   "metadata": {},
   "source": [
    "### 2a) Nationality\n",
    "\n",
    "We're ultimately going to be comparing French and Brazilian Players...so we should probably get a sense of how many different nationalities are represented in our dataset, by running the code below: "
   ]
  },
  {
   "cell_type": "code",
   "execution_count": 168,
   "metadata": {},
   "outputs": [
    {
     "data": {
      "text/plain": [
       "162"
      ]
     },
     "execution_count": 168,
     "metadata": {},
     "output_type": "execute_result"
    }
   ],
   "source": [
    "# determine how many different nationalities\n",
    "df['nationality'].nunique()"
   ]
  },
  {
   "cell_type": "markdown",
   "metadata": {},
   "source": [
    "We're most interested in the countries that produce the most players, so let's generate a **barplot** of the top 10 nations that produce the most players."
   ]
  },
  {
   "cell_type": "code",
   "execution_count": 169,
   "metadata": {
    "deletable": false,
    "nbgrader": {
     "cell_type": "code",
     "checksum": "9b3e6e8e8bb1ceaf2f85435d278788d0",
     "grade": false,
     "grade_id": "cell-f38279d756a7a299",
     "locked": false,
     "schema_version": 3,
     "solution": true,
     "task": false
    }
   },
   "outputs": [
    {
     "data": {
      "text/plain": [
       "Text(0, 0.5, 'Country')"
      ]
     },
     "execution_count": 169,
     "metadata": {},
     "output_type": "execute_result"
    },
    {
     "data": {
      "image/png": "[encoded data removed]",
      "text/plain": [
       "<Figure size 1000x600 with 1 Axes>"
      ]
     },
     "metadata": {},
     "output_type": "display_data"
    }
   ],
   "source": [
    "# YOUR CODE HERE\n",
    "top_nations = df['nationality'].value_counts().head(10).index\n",
    "df_top_nations = df[df['nationality'].isin(top_nations)]\n",
    "\n",
    "plt.figure(figsize=(10, 6))\n",
    "ax = sns.countplot(y='nationality', data=df_top_nations, color='#686868', order=top_nations)\n",
    "\n",
    "ax.set_title('Top 10 Nations Producing the Most Players')\n",
    "ax.set_xlabel('Count')\n",
    "ax.set_ylabel('Country')"
   ]
  },
  {
   "cell_type": "markdown",
   "metadata": {
    "deletable": false,
    "editable": false,
    "nbgrader": {
     "cell_type": "markdown",
     "checksum": "f7c6d38c34051d31a850d15e4bff4fc5",
     "grade": false,
     "grade_id": "cell-a7f8ce4c4c0c1fc7",
     "locked": true,
     "schema_version": 3,
     "solution": false
    }
   },
   "source": [
    "From the plot you generated, you should see that England is the most common nationality, but that France and Brazil (our countries of interest) are in the top 10."
   ]
  },
  {
   "cell_type": "markdown",
   "metadata": {
    "deletable": false,
    "editable": false,
    "nbgrader": {
     "cell_type": "markdown",
     "checksum": "3ef4c81c50ccb89e18db727fc48d2090",
     "grade": false,
     "grade_id": "cell-e68ae0bb38fa441b",
     "locked": true,
     "schema_version": 3,
     "solution": false
    }
   },
   "source": [
    "### 2b) Scatterplot Matrix\n",
    "\n",
    "Using `scatter_matrix`, from `pandas`' `plotting` module, plot `df` for the 5 columns `age`, `height`, `weight`, `'potential`, and `overall`. Assign it to a variable called `fig`. "
   ]
  },
  {
   "cell_type": "code",
   "execution_count": 170,
   "metadata": {
    "deletable": false,
    "nbgrader": {
     "cell_type": "code",
     "checksum": "993d36cc155397bbe43169ba1abd34be",
     "grade": false,
     "grade_id": "2a",
     "locked": false,
     "schema_version": 3,
     "solution": true
    }
   },
   "outputs": [
    {
     "data": {
      "image/png": "[encoded data removed]",
      "text/plain": [
       "<Figure size 640x480 with 25 Axes>"
      ]
     },
     "metadata": {},
     "output_type": "display_data"
    }
   ],
   "source": [
    "# YOUR CODE HERE\n",
    "from pandas.plotting import scatter_matrix \n",
    "plot_columns = ['age', 'height', 'weight', 'potential', 'overall']\n",
    "fig = scatter_matrix(df[plot_columns])"
   ]
  },
  {
   "cell_type": "code",
   "execution_count": 171,
   "metadata": {
    "deletable": false,
    "editable": false,
    "nbgrader": {
     "cell_type": "code",
     "checksum": "424ca5d3ae0baaab11e1179fe1a6e1b8",
     "grade": true,
     "grade_id": "2a_ans",
     "locked": true,
     "points": 0.2,
     "schema_version": 3,
     "solution": false
    }
   },
   "outputs": [],
   "source": [
    "### BEGIN TESTS\n",
    "assert np.all(fig)\n",
    "### END TESTS"
   ]
  },
  {
   "cell_type": "markdown",
   "metadata": {},
   "source": [
    "From this plot, you should get a sense of the range/possible values for each variable and see that potential and overall are certainly related to one another, as are height and weight. However, as we would expect, age is not closely related to any of the other variables."
   ]
  },
  {
   "cell_type": "markdown",
   "metadata": {},
   "source": [
    "## Part 3: Analysis\n",
    "\n",
    "While we haven't fully explored the data, for the purposes of this workbook, let's get to answering some questions! For this, we're only going to focus in on players from two countries: France and Brazil and we'll answer the following questions:\n",
    "\n",
    "1. Do the heights of players differ between Brazil and France?\n",
    "2. Do the weights of players differ between Brazil and France?\n",
    "4. What is the effect of nationality on overall rating?"
   ]
  },
  {
   "cell_type": "markdown",
   "metadata": {
    "deletable": false,
    "editable": false,
    "nbgrader": {
     "cell_type": "markdown",
     "checksum": "c4cdc1bf9c8028df2d53bd565b133d24",
     "grade": false,
     "grade_id": "cell-89338f4b9f5011e1",
     "locked": true,
     "schema_version": 3,
     "solution": false
    }
   },
   "source": [
    "### 3a) Subset Data\n",
    "\n",
    "Obtain a subset of the original dataframe `df`, including only players whose `nationality` is either 'Brazil' or 'France'. Store this in `df_sub`"
   ]
  },
  {
   "cell_type": "code",
   "execution_count": 172,
   "metadata": {
    "deletable": false,
    "nbgrader": {
     "cell_type": "code",
     "checksum": "d699a6dfd124033a1af8c3716133f6d1",
     "grade": false,
     "grade_id": "cell-96f1c4712855f7e8",
     "locked": false,
     "schema_version": 3,
     "solution": true
    }
   },
   "outputs": [
    {
     "data": {
      "text/html": [
       "<div>\n",
       "<style scoped>\n",
       "    .dataframe tbody tr th:only-of-type {\n",
       "        vertical-align: middle;\n",
       "    }\n",
       "\n",
       "    .dataframe tbody tr th {\n",
       "        vertical-align: top;\n",
       "    }\n",
       "\n",
       "    .dataframe thead th {\n",
       "        text-align: right;\n",
       "    }\n",
       "</style>\n",
       "<table border=\"1\" class=\"dataframe\">\n",
       "  <thead>\n",
       "    <tr style=\"text-align: right;\">\n",
       "      <th></th>\n",
       "      <th>sofifa_id</th>\n",
       "      <th>short_name</th>\n",
       "      <th>age</th>\n",
       "      <th>dob</th>\n",
       "      <th>height</th>\n",
       "      <th>weight</th>\n",
       "      <th>nationality</th>\n",
       "      <th>club</th>\n",
       "      <th>overall</th>\n",
       "      <th>potential</th>\n",
       "      <th>value_eur</th>\n",
       "      <th>wage</th>\n",
       "      <th>player_positions</th>\n",
       "      <th>preferred_foot</th>\n",
       "      <th>international_reputation</th>\n",
       "    </tr>\n",
       "  </thead>\n",
       "  <tbody>\n",
       "    <tr>\n",
       "      <th>2</th>\n",
       "      <td>190871</td>\n",
       "      <td>Neymar Jr</td>\n",
       "      <td>27.0</td>\n",
       "      <td>1992-02-05</td>\n",
       "      <td>175.00</td>\n",
       "      <td>68.000000</td>\n",
       "      <td>Brazil</td>\n",
       "      <td>Paris Saint-Germain</td>\n",
       "      <td>92.0</td>\n",
       "      <td>92.0</td>\n",
       "      <td>105500000</td>\n",
       "      <td>290000.0</td>\n",
       "      <td>LW, CAM</td>\n",
       "      <td>Right</td>\n",
       "      <td>5</td>\n",
       "    </tr>\n",
       "    <tr>\n",
       "      <th>10</th>\n",
       "      <td>231747</td>\n",
       "      <td>K. Mbappé</td>\n",
       "      <td>20.0</td>\n",
       "      <td>1998-12-20</td>\n",
       "      <td>178.00</td>\n",
       "      <td>73.000000</td>\n",
       "      <td>France</td>\n",
       "      <td>Paris Saint-Germain</td>\n",
       "      <td>89.0</td>\n",
       "      <td>95.0</td>\n",
       "      <td>93500000</td>\n",
       "      <td>155000.0</td>\n",
       "      <td>ST, RW</td>\n",
       "      <td>Right</td>\n",
       "      <td>3</td>\n",
       "    </tr>\n",
       "    <tr>\n",
       "      <th>13</th>\n",
       "      <td>212831</td>\n",
       "      <td>Alisson</td>\n",
       "      <td>26.0</td>\n",
       "      <td>1992-10-02</td>\n",
       "      <td>190.50</td>\n",
       "      <td>91.000000</td>\n",
       "      <td>Brazil</td>\n",
       "      <td>Liverpool</td>\n",
       "      <td>89.0</td>\n",
       "      <td>91.0</td>\n",
       "      <td>58000000</td>\n",
       "      <td>155000.0</td>\n",
       "      <td>GK</td>\n",
       "      <td>Right</td>\n",
       "      <td>3</td>\n",
       "    </tr>\n",
       "    <tr>\n",
       "      <th>15</th>\n",
       "      <td>215914</td>\n",
       "      <td>N. Kanté</td>\n",
       "      <td>28.0</td>\n",
       "      <td>1991-03-29</td>\n",
       "      <td>167.64</td>\n",
       "      <td>71.667536</td>\n",
       "      <td>France</td>\n",
       "      <td>Chelsea</td>\n",
       "      <td>89.0</td>\n",
       "      <td>90.0</td>\n",
       "      <td>66000000</td>\n",
       "      <td>235000.0</td>\n",
       "      <td>CDM, CM</td>\n",
       "      <td>Right</td>\n",
       "      <td>3</td>\n",
       "    </tr>\n",
       "    <tr>\n",
       "      <th>22</th>\n",
       "      <td>194765</td>\n",
       "      <td>A. Griezmann</td>\n",
       "      <td>28.0</td>\n",
       "      <td>1991-03-21</td>\n",
       "      <td>175.26</td>\n",
       "      <td>72.574720</td>\n",
       "      <td>France</td>\n",
       "      <td>FC Barcelona</td>\n",
       "      <td>89.0</td>\n",
       "      <td>89.0</td>\n",
       "      <td>69000000</td>\n",
       "      <td>370000.0</td>\n",
       "      <td>CF, ST, LW</td>\n",
       "      <td>Left</td>\n",
       "      <td>4</td>\n",
       "    </tr>\n",
       "  </tbody>\n",
       "</table>\n",
       "</div>"
      ],
      "text/plain": [
       "    sofifa_id    short_name   age         dob  height     weight nationality  \\\n",
       "2      190871     Neymar Jr  27.0  1992-02-05  175.00  68.000000      Brazil   \n",
       "10     231747     K. Mbappé  20.0  1998-12-20  178.00  73.000000      France   \n",
       "13     212831       Alisson  26.0  1992-10-02  190.50  91.000000      Brazil   \n",
       "15     215914      N. Kanté  28.0  1991-03-29  167.64  71.667536      France   \n",
       "22     194765  A. Griezmann  28.0  1991-03-21  175.26  72.574720      France   \n",
       "\n",
       "                   club  overall  potential  value_eur      wage  \\\n",
       "2   Paris Saint-Germain     92.0       92.0  105500000  290000.0   \n",
       "10  Paris Saint-Germain     89.0       95.0   93500000  155000.0   \n",
       "13            Liverpool     89.0       91.0   58000000  155000.0   \n",
       "15              Chelsea     89.0       90.0   66000000  235000.0   \n",
       "22         FC Barcelona     89.0       89.0   69000000  370000.0   \n",
       "\n",
       "   player_positions preferred_foot  international_reputation  \n",
       "2           LW, CAM          Right                         5  \n",
       "10           ST, RW          Right                         3  \n",
       "13               GK          Right                         3  \n",
       "15          CDM, CM          Right                         3  \n",
       "22       CF, ST, LW           Left                         4  "
      ]
     },
     "execution_count": 172,
     "metadata": {},
     "output_type": "execute_result"
    }
   ],
   "source": [
    "# YOUR CODE HERE\n",
    "df_sub = df[df[\"nationality\"].isin(['Brazil', 'France'])]\n",
    "df_sub.head()"
   ]
  },
  {
   "cell_type": "code",
   "execution_count": 173,
   "metadata": {
    "deletable": false,
    "editable": false,
    "nbgrader": {
     "cell_type": "code",
     "checksum": "6e7a6eeaa7fa5f7586007fe2bb064229",
     "grade": true,
     "grade_id": "cell-f615cf4869353bd1",
     "locked": true,
     "points": 0.1,
     "schema_version": 3,
     "solution": false
    }
   },
   "outputs": [],
   "source": [
    "### BEGIN TESTS\n",
    "assert df_sub.shape == (1808, 15)\n",
    "### END TESTS"
   ]
  },
  {
   "cell_type": "markdown",
   "metadata": {},
   "source": [
    "### 3b) Weight\n",
    "\n",
    "Extract the weight data for all French players, storing it in `w_france`.\n",
    "\n",
    "Extract the weight data for all Brazilian players, storing it in `w_brazil`."
   ]
  },
  {
   "cell_type": "code",
   "execution_count": 174,
   "metadata": {},
   "outputs": [],
   "source": [
    "w_france = df[df['nationality'] == 'France']['weight']\n",
    "w_brazil = df[df['nationality'] == 'Brazil']['weight']"
   ]
  },
  {
   "cell_type": "markdown",
   "metadata": {},
   "source": [
    "### 3c) Difference in weight?\n",
    "\n",
    "Carry out a t-test (using the `ttest_ind()` function) to compare the two distributions. Store the test statstic in the variable `t_val` and the p-value in the variable `p_val`."
   ]
  },
  {
   "cell_type": "code",
   "execution_count": 175,
   "metadata": {
    "deletable": false,
    "nbgrader": {
     "cell_type": "code",
     "checksum": "13fb5a756e9a146b3a215b85a1c41fe4",
     "grade": false,
     "grade_id": "cell-8a7bb7133fdd9d77",
     "locked": false,
     "schema_version": 3,
     "solution": true
    }
   },
   "outputs": [],
   "source": [
    "# YOUR CODE HERE\n",
    "t_val, p_val = ttest_ind(w_france.dropna(), w_brazil.dropna())"
   ]
  },
  {
   "cell_type": "code",
   "execution_count": 176,
   "metadata": {},
   "outputs": [
    {
     "data": {
      "text/plain": [
       "(-1.7586424201253648, 0.07880760827880617)"
      ]
     },
     "execution_count": 176,
     "metadata": {},
     "output_type": "execute_result"
    }
   ],
   "source": [
    "# look at results\n",
    "t_val, p_val"
   ]
  },
  {
   "cell_type": "code",
   "execution_count": 177,
   "metadata": {
    "deletable": false,
    "editable": false,
    "nbgrader": {
     "cell_type": "code",
     "checksum": "b54e143e38f12f2465cc82b5e392ecc9",
     "grade": true,
     "grade_id": "cell-5cd84d5270b2fb06",
     "locked": true,
     "points": 0.2,
     "schema_version": 3,
     "solution": false
    }
   },
   "outputs": [],
   "source": [
    "### BEGIN TESTS\n",
    "assert np.isclose(t_val, -1.76, atol = 0.01)\n",
    "assert np.isclose(p_val, 0.079, atol = 0.01)\n",
    "### END TESTS"
   ]
  },
  {
   "cell_type": "code",
   "execution_count": 178,
   "metadata": {},
   "outputs": [
    {
     "name": "stdout",
     "output_type": "stream",
     "text": [
      "There is NOT a significant difference!\n"
     ]
    }
   ],
   "source": [
    "# Check if statistical test passes significance\n",
    "# using an alpha value of 0.01. This code provided.\n",
    "if p_val < 0.01:\n",
    "    print('There is a significant difference!')\n",
    "else:\n",
    "    print('There is NOT a significant difference!')"
   ]
  },
  {
   "cell_type": "markdown",
   "metadata": {
    "deletable": false,
    "editable": false,
    "nbgrader": {
     "cell_type": "markdown",
     "checksum": "d196744de6fd6068a1a90458153f28df",
     "grade": false,
     "grade_id": "cell-c0866aadb353f7b9",
     "locked": true,
     "schema_version": 3,
     "solution": false
    }
   },
   "source": [
    "### 3d) Height\n",
    "\n",
    "Carry out the same process as above for height to determine if the heights of players differ between France and Brazil. Again, store the output in `t_val` and `p_val`"
   ]
  },
  {
   "cell_type": "code",
   "execution_count": 181,
   "metadata": {
    "deletable": false,
    "nbgrader": {
     "cell_type": "code",
     "checksum": "0c6749d379571f1cf0672f191fe1fbcd",
     "grade": false,
     "grade_id": "cell-1d621c2b31180085",
     "locked": false,
     "schema_version": 3,
     "solution": true
    }
   },
   "outputs": [
    {
     "data": {
      "text/plain": [
       "(2.1929115752754877, 0.02844089362836709)"
      ]
     },
     "execution_count": 181,
     "metadata": {},
     "output_type": "execute_result"
    }
   ],
   "source": [
    "# YOUR CODE HERE\n",
    "w_france = df[df['nationality'] == 'France']['height']\n",
    "w_brazil = df[df['nationality'] == 'Brazil']['height']\n",
    "w_france_clean = w_france.dropna()\n",
    "w_brazil_clean = w_brazil.dropna()\n",
    "t_val, p_val = ttest_ind(w_france.dropna(), w_brazil.dropna())\n",
    "t_val, p_val"
   ]
  },
  {
   "cell_type": "code",
   "execution_count": 182,
   "metadata": {
    "deletable": false,
    "editable": false,
    "nbgrader": {
     "cell_type": "code",
     "checksum": "cab7fd0b0e5c78e189986b8827f128f8",
     "grade": true,
     "grade_id": "cell-4f324c0577de3b9c",
     "locked": true,
     "points": 0.2,
     "schema_version": 3,
     "solution": false,
     "task": false
    }
   },
   "outputs": [],
   "source": [
    "### BEGIN TESTS\n",
    "assert np.isclose(t_val, 2.19, atol = 0.01)\n",
    "assert np.isclose(p_val, 0.028, atol = 0.01)\n",
    "### END TESTS"
   ]
  },
  {
   "cell_type": "markdown",
   "metadata": {},
   "source": [
    "### 3e) Who's taller?\n",
    "\n",
    "In 3d, you should have determined that there is a height difference between French and Brazilian soccer players...but who's taller? Determine the difference in means here, storing the mean height for each country in `mean_france` and `mean_brazil`, respectively."
   ]
  },
  {
   "cell_type": "code",
   "execution_count": 183,
   "metadata": {
    "deletable": false,
    "nbgrader": {
     "cell_type": "code",
     "checksum": "bd22853061452b31683ea8606ec6eff0",
     "grade": false,
     "grade_id": "cell-0f20ac538b6415d7",
     "locked": false,
     "schema_version": 3,
     "solution": true
    }
   },
   "outputs": [
    {
     "data": {
      "text/plain": [
       "(181.34349593495935, 180.67114077669905, 0.6723551582603022)"
      ]
     },
     "execution_count": 183,
     "metadata": {},
     "output_type": "execute_result"
    }
   ],
   "source": [
    "# YOUR CODE HERE\n",
    "mean_france = w_france.mean()\n",
    "mean_brazil = w_brazil.mean()\n",
    "mean_difference = mean_france - mean_brazil\n",
    "mean_france, mean_brazil, mean_difference"
   ]
  },
  {
   "cell_type": "code",
   "execution_count": 184,
   "metadata": {
    "deletable": false,
    "editable": false,
    "nbgrader": {
     "cell_type": "code",
     "checksum": "c381eb9e52478d2844628d2c2ef55023",
     "grade": true,
     "grade_id": "cell-e6605462e4d4b155",
     "locked": true,
     "points": 0.2,
     "schema_version": 3,
     "solution": false
    }
   },
   "outputs": [],
   "source": [
    "### BEGIN TESTS\n",
    "assert np.isclose(mean_france, 181.34, atol = 0.01)\n",
    "assert np.isclose(mean_brazil, 180.67, atol = 0.01)\n",
    "### END TESTS"
   ]
  },
  {
   "cell_type": "markdown",
   "metadata": {
    "deletable": false,
    "editable": false,
    "nbgrader": {
     "cell_type": "markdown",
     "checksum": "44969bb5a249d8606f6ff76af1781d2f",
     "grade": false,
     "grade_id": "cell-cee27eaeb3de1247",
     "locked": true,
     "schema_version": 3,
     "solution": false
    }
   },
   "source": [
    "### 3f) Overall\n",
    "\n",
    "While height and weight may affect your soccer prowess, how you perform is what ultimately matters. Let's determine the relationship (French vs. Brazil) between nationality and `overall` score in `df_sub` using `OLS` from `statsmodels`.\n",
    "\n",
    "The null hypothesis here would be that there is no relationship between nationality and `overall` score. \n",
    "\n",
    "Store the results from your analysis in the variable `res_1`."
   ]
  },
  {
   "cell_type": "code",
   "execution_count": null,
   "metadata": {},
   "outputs": [],
   "source": [
    "# a_test, b_test = patsy.dmatrices('overall ~ nationality', df_sub)\n",
    "# b_test"
   ]
  },
  {
   "cell_type": "code",
   "execution_count": 211,
   "metadata": {
    "deletable": false,
    "nbgrader": {
     "cell_type": "code",
     "checksum": "160176e37c89b567b46c554b73e7ce31",
     "grade": false,
     "grade_id": "cell-adf747720a71f6a9",
     "locked": false,
     "schema_version": 3,
     "solution": true
    }
   },
   "outputs": [],
   "source": [
    "# YOUR CODE HERE\n",
    "import statsmodels.api as sm\n",
    "import patsy\n",
    "\n",
    "df_sub = df[df['nationality'].isin(['France', 'Brazil'])]\n",
    "\n",
    "model = sm.OLS(patsy.dmatrices('overall ~ nationality', df_sub)[0], patsy.dmatrices('overall ~ nationality', df_sub)[1]).fit()\n",
    "res_1 = model \n"
   ]
  },
  {
   "cell_type": "code",
   "execution_count": 212,
   "metadata": {
    "deletable": false,
    "editable": false,
    "nbgrader": {
     "cell_type": "code",
     "checksum": "5b045cc7473350aa4638a887babf8c81",
     "grade": true,
     "grade_id": "cell-efeecd54137aed39",
     "locked": true,
     "points": 0.1,
     "schema_version": 3,
     "solution": false
    }
   },
   "outputs": [],
   "source": [
    "### BEGIN TESTS\n",
    "assert isinstance(res_1, sm.regression.linear_model.RegressionResultsWrapper)\n",
    "### END TESTS"
   ]
  },
  {
   "cell_type": "code",
   "execution_count": 213,
   "metadata": {
    "deletable": false,
    "editable": false,
    "nbgrader": {
     "cell_type": "code",
     "checksum": "c8ba186b16fb34c24bcb28fa5df4c09e",
     "grade": false,
     "grade_id": "cell-5a53f67e2fde94af",
     "locked": true,
     "schema_version": 3,
     "solution": false
    }
   },
   "outputs": [
    {
     "name": "stdout",
     "output_type": "stream",
     "text": [
      "                            OLS Regression Results                            \n",
      "==============================================================================\n",
      "Dep. Variable:                overall   R-squared:                       0.078\n",
      "Model:                            OLS   Adj. R-squared:                  0.077\n",
      "Method:                 Least Squares   F-statistic:                     151.9\n",
      "Date:                Sat, 09 Nov 2024   Prob (F-statistic):           1.43e-33\n",
      "Time:                        06:58:46   Log-Likelihood:                -5930.3\n",
      "No. Observations:                1808   AIC:                         1.186e+04\n",
      "Df Residuals:                    1806   BIC:                         1.188e+04\n",
      "Df Model:                           1                                         \n",
      "Covariance Type:            nonrobust                                         \n",
      "=========================================================================================\n",
      "                            coef    std err          t      P>|t|      [0.025      0.975]\n",
      "-----------------------------------------------------------------------------------------\n",
      "Intercept                71.1614      0.224    317.469      0.000      70.722      71.601\n",
      "nationality[T.France]    -3.7447      0.304    -12.325      0.000      -4.341      -3.149\n",
      "==============================================================================\n",
      "Omnibus:                       37.502   Durbin-Watson:                   0.112\n",
      "Prob(Omnibus):                  0.000   Jarque-Bera (JB):               39.315\n",
      "Skew:                           0.356   Prob(JB):                     2.90e-09\n",
      "Kurtosis:                       3.120   Cond. No.                         2.74\n",
      "==============================================================================\n",
      "\n",
      "Notes:\n",
      "[1] Standard Errors assume that the covariance matrix of the errors is correctly specified.\n"
     ]
    }
   ],
   "source": [
    "# look at results\n",
    "print(res_1.summary())"
   ]
  },
  {
   "cell_type": "markdown",
   "metadata": {
    "deletable": false,
    "editable": false,
    "nbgrader": {
     "cell_type": "markdown",
     "checksum": "78ada5a578192c07548bdb462de045a2",
     "grade": false,
     "grade_id": "cell-4bdf0c61acf33eb6",
     "locked": true,
     "schema_version": 3,
     "solution": false
    }
   },
   "source": [
    "In this model, you should see that, on average, French players tend to have significantly lower overall scores, relative to Brazilians. Our first piece of evidence suggesting that Brazil may be the country that produces the best players! However, we only looked at two countries here...and only looked at one feature. We'd have to do a lot more digging/analysis before determining that conclusively!"
   ]
  }
 ],
 "metadata": {
  "kernelspec": {
   "display_name": "Python 3 (ipykernel)",
   "language": "python",
   "name": "python3"
  },
  "language_info": {
   "codemirror_mode": {
    "name": "ipython",
    "version": 3
   },
   "file_extension": ".py",
   "mimetype": "text/x-python",
   "name": "python",
   "nbconvert_exporter": "python",
   "pygments_lexer": "ipython3",
   "version": "3.11.9"
  }
 },
 "nbformat": 4,
 "nbformat_minor": 4
}
